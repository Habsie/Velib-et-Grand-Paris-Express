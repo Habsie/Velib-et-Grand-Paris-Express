{
  "nbformat": 4,
  "nbformat_minor": 0,
  "metadata": {
    "colab": {
      "name": "Villes_idf.ipynb",
      "provenance": [],
      "collapsed_sections": [
        "b2L59GnmdB2N",
        "2KlNpJpkgSIB",
        "HuX2rJk6egxC"
      ],
      "include_colab_link": true
    },
    "kernelspec": {
      "name": "python3",
      "display_name": "Python 3"
    },
    "language_info": {
      "name": "python"
    }
  },
  "cells": [
    {
      "cell_type": "markdown",
      "metadata": {
        "id": "view-in-github",
        "colab_type": "text"
      },
      "source": [
        "<a href=\"https://colab.research.google.com/github/Habsie/Velib-et-Grand-Paris-Express/blob/main/Villes_idf.ipynb\" target=\"_parent\"><img src=\"https://colab.research.google.com/assets/colab-badge.svg\" alt=\"Open In Colab\"/></a>"
      ]
    },
    {
      "cell_type": "markdown",
      "source": [
        "# Préparation de la densité par Villes"
      ],
      "metadata": {
        "id": "b2L59GnmdB2N"
      }
    },
    {
      "cell_type": "code",
      "execution_count": null,
      "metadata": {
        "id": "HXPlh8h-SUpm",
        "colab": {
          "base_uri": "https://localhost:8080/"
        },
        "outputId": "778cb4e4-d1a0-4b24-cf34-97a8acac7250"
      },
      "outputs": [
        {
          "output_type": "stream",
          "name": "stdout",
          "text": [
            "Drive already mounted at /content/drive; to attempt to forcibly remount, call drive.mount(\"/content/drive\", force_remount=True).\n"
          ]
        }
      ],
      "source": [
        "from google.colab import drive\n",
        "drive.mount('/content/drive')"
      ]
    },
    {
      "cell_type": "code",
      "source": [
        "import pandas as pd\n",
        "import os\n",
        "import plotly.express as px\n",
        "import matplotlib as plt"
      ],
      "metadata": {
        "id": "FquNTuu8S1IH"
      },
      "execution_count": null,
      "outputs": []
    },
    {
      "cell_type": "markdown",
      "source": [
        "# Import des fichiers nécessaires"
      ],
      "metadata": {
        "id": "rVb8_hLPdIb4"
      }
    },
    {
      "cell_type": "code",
      "source": [
        "#POPULATION 2019_DONNEES MISE A DISPO EN 2022\n",
        "densité_pop22  = pd.read_excel('drive/MyDrive/LePont - Capstone #3/Notebook & Data/Data/grille_densite_7_niveaux_detaille_2022.xlsx')"
      ],
      "metadata": {
        "id": "UAIUzLlBo5E0"
      },
      "execution_count": null,
      "outputs": []
    },
    {
      "cell_type": "code",
      "source": [
        "#DONNEES INSEE SUR LA SUPERFICIE POUR CALCULER LA DENSITE POP/KM2\n",
        "df_superficie = pd.read_excel('drive/MyDrive/LePont - Capstone #3/Notebook & Data/Data/base_cc_comparateur.xlsx', skiprows=range(0, 5))\n",
        "df_superficie = df_superficie[['CODGEO','SUPERF']]"
      ],
      "metadata": {
        "id": "R71MSCff9RDZ"
      },
      "execution_count": null,
      "outputs": []
    },
    {
      "cell_type": "markdown",
      "source": [
        "# Traitement"
      ],
      "metadata": {
        "id": "mZ7TXlUTeu3L"
      }
    },
    {
      "cell_type": "markdown",
      "source": [
        "## Liste des villes d'idf"
      ],
      "metadata": {
        "id": "-vGP1zRuexCM"
      }
    },
    {
      "cell_type": "code",
      "source": [
        "#LISTE DES DEPARTEMENTS D'IDF \n",
        "liste_depart =['75','77','78','91','92','93','94','95']"
      ],
      "metadata": {
        "id": "TCgiukkgnSOE"
      },
      "execution_count": null,
      "outputs": []
    },
    {
      "cell_type": "markdown",
      "source": [
        "## Extractoin des données de populations "
      ],
      "metadata": {
        "id": "yRurarspe93v"
      }
    },
    {
      "cell_type": "code",
      "source": [
        "#EXTRACTION DES COLONNES UTILES POUR L'ANALYSE\n",
        "densité_pop22  = densité_pop22[['Code commune','Libellé commune','Population \\nmunicipale \\n2019']]"
      ],
      "metadata": {
        "id": "qCgvaBQVpWIg"
      },
      "execution_count": null,
      "outputs": []
    },
    {
      "cell_type": "code",
      "source": [
        "densité_pop22['Code dep'] = densité_pop22['Code commune'].str[0:2]"
      ],
      "metadata": {
        "colab": {
          "base_uri": "https://localhost:8080/"
        },
        "id": "CW9RA918c4bT",
        "outputId": "2d54eb8f-3000-4c3c-92d6-1b548c958daf"
      },
      "execution_count": null,
      "outputs": [
        {
          "output_type": "stream",
          "name": "stderr",
          "text": [
            "/usr/local/lib/python3.7/dist-packages/ipykernel_launcher.py:1: SettingWithCopyWarning: \n",
            "A value is trying to be set on a copy of a slice from a DataFrame.\n",
            "Try using .loc[row_indexer,col_indexer] = value instead\n",
            "\n",
            "See the caveats in the documentation: https://pandas.pydata.org/pandas-docs/stable/user_guide/indexing.html#returning-a-view-versus-a-copy\n",
            "  \"\"\"Entry point for launching an IPython kernel.\n"
          ]
        }
      ]
    },
    {
      "cell_type": "markdown",
      "source": [
        "## Extraction des villes d'idf"
      ],
      "metadata": {
        "id": "ug0bOxRRdr8i"
      }
    },
    {
      "cell_type": "code",
      "source": [
        "villes_idf = densité_pop22.loc[densité_pop22['Code dep'].isin(liste_depart) == True]"
      ],
      "metadata": {
        "id": "5chNCLJ4dVLE"
      },
      "execution_count": null,
      "outputs": []
    },
    {
      "cell_type": "markdown",
      "source": [
        "## Ajout de la superficie dans les villes"
      ],
      "metadata": {
        "id": "2KlNpJpkgSIB"
      }
    },
    {
      "cell_type": "code",
      "source": [
        "villes_idf = villes_idf.merge(df_superficie,left_on='Code commune', right_on='CODGEO', how='left')"
      ],
      "metadata": {
        "id": "U0QwYwxDJSoo"
      },
      "execution_count": null,
      "outputs": []
    },
    {
      "cell_type": "markdown",
      "source": [
        "## Ajout de la densité de population"
      ],
      "metadata": {
        "id": "-JhmLXMrjFim"
      }
    },
    {
      "cell_type": "code",
      "source": [
        "villes_idf['Densite_pop'] = villes_idf['Population \\nmunicipale \\n2019']/villes_idf['SUPERF']"
      ],
      "metadata": {
        "id": "I3JI5LOejMNa"
      },
      "execution_count": null,
      "outputs": []
    },
    {
      "cell_type": "markdown",
      "source": [
        "## Ajout de la segmentation de la densité"
      ],
      "metadata": {
        "id": "or-R5LZQha1s"
      }
    },
    {
      "cell_type": "code",
      "source": [
        "#FONCTION POUR AFFICHER LA SEGMENTATION EN FONCTION DE LA DENSITE/POPULATION\n",
        "def segmentation(Densite_pop):\n",
        "    if Densite_pop <= 10000:\n",
        "      return 'Segment 1'\n",
        "    if 10000 < Densite_pop <= 15000:\n",
        "      return 'Segment 2'\n",
        "    if 15000 < Densite_pop <= 20000:\n",
        "      return 'Segment 3'\n",
        "    if Densite_pop > 20000:\n",
        "      return 'Segment 4'\n",
        "    else :   \n",
        "      return 'Segment 0'\n",
        " "
      ],
      "metadata": {
        "id": "scMx9yJNh6wV"
      },
      "execution_count": null,
      "outputs": []
    },
    {
      "cell_type": "code",
      "source": [
        "#CREATION DE LA COLONNE SEGMENTATION DENSITE POPULATION\n",
        "villes_idf['Segmentation_Densite_pop'] = villes_idf.apply(lambda villes_idf: segmentation(villes_idf['Densite_pop']), axis=1)"
      ],
      "metadata": {
        "id": "MeCOs99viPuX"
      },
      "execution_count": null,
      "outputs": []
    },
    {
      "cell_type": "code",
      "source": [
        "#VERIFICATION LISTE SEGMENT\n",
        "villes_idf['Segmentation_Densite_pop'].unique()"
      ],
      "metadata": {
        "colab": {
          "base_uri": "https://localhost:8080/"
        },
        "id": "XkoMfxUyGgX4",
        "outputId": "36eb785a-a216-4b88-9ef7-5b8094130f8d"
      },
      "execution_count": null,
      "outputs": [
        {
          "output_type": "execute_result",
          "data": {
            "text/plain": [
              "array(['Segment 4', 'Segment 1', 'Segment 3', 'Segment 2'], dtype=object)"
            ]
          },
          "metadata": {},
          "execution_count": 22
        }
      ]
    },
    {
      "cell_type": "markdown",
      "source": [
        "# Nettoyage du dataframe final villes"
      ],
      "metadata": {
        "id": "HuX2rJk6egxC"
      }
    },
    {
      "cell_type": "code",
      "source": [
        "villes_idf = villes_idf.drop(['CODGEO'],axis = 1)\n"
      ],
      "metadata": {
        "id": "d1Id6FDzvzjG"
      },
      "execution_count": null,
      "outputs": []
    },
    {
      "cell_type": "code",
      "source": [
        "villes_idf['Population \\nmunicipale \\n2019'] = pd.to_numeric(villes_idf['Population \\nmunicipale \\n2019'])"
      ],
      "metadata": {
        "id": "2Ig-Q3EJaLV_"
      },
      "execution_count": null,
      "outputs": []
    },
    {
      "cell_type": "code",
      "source": [
        "villes_idf['Densite_pop'] = villes_idf['Population \\nmunicipale \\n2019']/villes_idf['SUPERF']"
      ],
      "metadata": {
        "id": "HQ4et6yFagJx"
      },
      "execution_count": null,
      "outputs": []
    },
    {
      "cell_type": "code",
      "source": [
        "villes_idf = villes_idf.rename(columns={'Libellé commune': \"Commune\", \"Population \\nmunicipale \\n2019\": \"Population 2019\", \"SUPERF\": \"Superficie en km2\"})"
      ],
      "metadata": {
        "id": "2WOqAW-za8oB"
      },
      "execution_count": null,
      "outputs": []
    },
    {
      "cell_type": "markdown",
      "source": [
        "# Extraction de villes en CSV"
      ],
      "metadata": {
        "id": "LP218GnuiQYa"
      }
    },
    {
      "cell_type": "code",
      "source": [
        "villes_idf.loc[villes_idf['Code dep']=='75']"
      ],
      "metadata": {
        "colab": {
          "base_uri": "https://localhost:8080/",
          "height": 81
        },
        "id": "KZQnLU_8klcN",
        "outputId": "ccf2195e-7bd1-47c5-a0c2-99ecd7860eb8"
      },
      "execution_count": null,
      "outputs": [
        {
          "output_type": "execute_result",
          "data": {
            "text/plain": [
              "  Code commune Commune  Population 2019 Code dep  Superficie en km2  \\\n",
              "0        75056   Paris          2165423       75              105.4   \n",
              "\n",
              "    Densite_pop Segmentation_Densite_pop  \n",
              "0  20544.810247                Segment 4  "
            ],
            "text/html": [
              "\n",
              "  <div id=\"df-d3cea87e-0f5f-4b66-893a-73a140ed0179\">\n",
              "    <div class=\"colab-df-container\">\n",
              "      <div>\n",
              "<style scoped>\n",
              "    .dataframe tbody tr th:only-of-type {\n",
              "        vertical-align: middle;\n",
              "    }\n",
              "\n",
              "    .dataframe tbody tr th {\n",
              "        vertical-align: top;\n",
              "    }\n",
              "\n",
              "    .dataframe thead th {\n",
              "        text-align: right;\n",
              "    }\n",
              "</style>\n",
              "<table border=\"1\" class=\"dataframe\">\n",
              "  <thead>\n",
              "    <tr style=\"text-align: right;\">\n",
              "      <th></th>\n",
              "      <th>Code commune</th>\n",
              "      <th>Commune</th>\n",
              "      <th>Population 2019</th>\n",
              "      <th>Code dep</th>\n",
              "      <th>Superficie en km2</th>\n",
              "      <th>Densite_pop</th>\n",
              "      <th>Segmentation_Densite_pop</th>\n",
              "    </tr>\n",
              "  </thead>\n",
              "  <tbody>\n",
              "    <tr>\n",
              "      <th>0</th>\n",
              "      <td>75056</td>\n",
              "      <td>Paris</td>\n",
              "      <td>2165423</td>\n",
              "      <td>75</td>\n",
              "      <td>105.4</td>\n",
              "      <td>20544.810247</td>\n",
              "      <td>Segment 4</td>\n",
              "    </tr>\n",
              "  </tbody>\n",
              "</table>\n",
              "</div>\n",
              "      <button class=\"colab-df-convert\" onclick=\"convertToInteractive('df-d3cea87e-0f5f-4b66-893a-73a140ed0179')\"\n",
              "              title=\"Convert this dataframe to an interactive table.\"\n",
              "              style=\"display:none;\">\n",
              "        \n",
              "  <svg xmlns=\"http://www.w3.org/2000/svg\" height=\"24px\"viewBox=\"0 0 24 24\"\n",
              "       width=\"24px\">\n",
              "    <path d=\"M0 0h24v24H0V0z\" fill=\"none\"/>\n",
              "    <path d=\"M18.56 5.44l.94 2.06.94-2.06 2.06-.94-2.06-.94-.94-2.06-.94 2.06-2.06.94zm-11 1L8.5 8.5l.94-2.06 2.06-.94-2.06-.94L8.5 2.5l-.94 2.06-2.06.94zm10 10l.94 2.06.94-2.06 2.06-.94-2.06-.94-.94-2.06-.94 2.06-2.06.94z\"/><path d=\"M17.41 7.96l-1.37-1.37c-.4-.4-.92-.59-1.43-.59-.52 0-1.04.2-1.43.59L10.3 9.45l-7.72 7.72c-.78.78-.78 2.05 0 2.83L4 21.41c.39.39.9.59 1.41.59.51 0 1.02-.2 1.41-.59l7.78-7.78 2.81-2.81c.8-.78.8-2.07 0-2.86zM5.41 20L4 18.59l7.72-7.72 1.47 1.35L5.41 20z\"/>\n",
              "  </svg>\n",
              "      </button>\n",
              "      \n",
              "  <style>\n",
              "    .colab-df-container {\n",
              "      display:flex;\n",
              "      flex-wrap:wrap;\n",
              "      gap: 12px;\n",
              "    }\n",
              "\n",
              "    .colab-df-convert {\n",
              "      background-color: #E8F0FE;\n",
              "      border: none;\n",
              "      border-radius: 50%;\n",
              "      cursor: pointer;\n",
              "      display: none;\n",
              "      fill: #1967D2;\n",
              "      height: 32px;\n",
              "      padding: 0 0 0 0;\n",
              "      width: 32px;\n",
              "    }\n",
              "\n",
              "    .colab-df-convert:hover {\n",
              "      background-color: #E2EBFA;\n",
              "      box-shadow: 0px 1px 2px rgba(60, 64, 67, 0.3), 0px 1px 3px 1px rgba(60, 64, 67, 0.15);\n",
              "      fill: #174EA6;\n",
              "    }\n",
              "\n",
              "    [theme=dark] .colab-df-convert {\n",
              "      background-color: #3B4455;\n",
              "      fill: #D2E3FC;\n",
              "    }\n",
              "\n",
              "    [theme=dark] .colab-df-convert:hover {\n",
              "      background-color: #434B5C;\n",
              "      box-shadow: 0px 1px 3px 1px rgba(0, 0, 0, 0.15);\n",
              "      filter: drop-shadow(0px 1px 2px rgba(0, 0, 0, 0.3));\n",
              "      fill: #FFFFFF;\n",
              "    }\n",
              "  </style>\n",
              "\n",
              "      <script>\n",
              "        const buttonEl =\n",
              "          document.querySelector('#df-d3cea87e-0f5f-4b66-893a-73a140ed0179 button.colab-df-convert');\n",
              "        buttonEl.style.display =\n",
              "          google.colab.kernel.accessAllowed ? 'block' : 'none';\n",
              "\n",
              "        async function convertToInteractive(key) {\n",
              "          const element = document.querySelector('#df-d3cea87e-0f5f-4b66-893a-73a140ed0179');\n",
              "          const dataTable =\n",
              "            await google.colab.kernel.invokeFunction('convertToInteractive',\n",
              "                                                     [key], {});\n",
              "          if (!dataTable) return;\n",
              "\n",
              "          const docLinkHtml = 'Like what you see? Visit the ' +\n",
              "            '<a target=\"_blank\" href=https://colab.research.google.com/notebooks/data_table.ipynb>data table notebook</a>'\n",
              "            + ' to learn more about interactive tables.';\n",
              "          element.innerHTML = '';\n",
              "          dataTable['output_type'] = 'display_data';\n",
              "          await google.colab.output.renderOutput(dataTable, element);\n",
              "          const docLink = document.createElement('div');\n",
              "          docLink.innerHTML = docLinkHtml;\n",
              "          element.appendChild(docLink);\n",
              "        }\n",
              "      </script>\n",
              "    </div>\n",
              "  </div>\n",
              "  "
            ]
          },
          "metadata": {},
          "execution_count": 20
        }
      ]
    },
    {
      "cell_type": "code",
      "source": [
        "villes_idf.to_csv('/content/drive/MyDrive/LePont - Capstone #3/Notebook & Data/Data/Villes_idf_densite.csv',index=False)"
      ],
      "metadata": {
        "id": "GWuMxucihuM1"
      },
      "execution_count": null,
      "outputs": []
    }
  ]
}