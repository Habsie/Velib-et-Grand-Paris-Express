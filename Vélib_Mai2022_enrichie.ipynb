{
  "cells": [
    {
      "cell_type": "markdown",
      "metadata": {
        "id": "view-in-github",
        "colab_type": "text"
      },
      "source": [
        "<a href=\"https://colab.research.google.com/github/Habsie/Velib-et-Grand-Paris-Express/blob/main/V%C3%A9lib_Mai2022_enrichie.ipynb\" target=\"_parent\"><img src=\"https://colab.research.google.com/assets/colab-badge.svg\" alt=\"Open In Colab\"/></a>"
      ]
    },
    {
      "cell_type": "markdown",
      "metadata": {
        "id": "_R3C56sc1pkG"
      },
      "source": [
        "# **Préparation du fichiers Velib_mai_2022.csv**"
      ],
      "id": "_R3C56sc1pkG"
    },
    {
      "cell_type": "markdown",
      "metadata": {
        "id": "K0CpRoZN11-W"
      },
      "source": [
        " Import du drive dans google colab pour acceder au fichier"
      ],
      "id": "K0CpRoZN11-W"
    },
    {
      "cell_type": "code",
      "execution_count": null,
      "metadata": {
        "colab": {
          "base_uri": "https://localhost:8080/"
        },
        "id": "DJCVi1hK0Ps2",
        "outputId": "3c31479b-4346-4826-cd38-bd1f131db7aa"
      },
      "outputs": [
        {
          "output_type": "stream",
          "name": "stdout",
          "text": [
            "Mounted at /content/drive\n"
          ]
        }
      ],
      "source": [
        "from google.colab import drive\n",
        "drive.mount('/content/drive')"
      ],
      "id": "DJCVi1hK0Ps2"
    },
    {
      "cell_type": "markdown",
      "metadata": {
        "id": "AUmXpZtJ2BMo"
      },
      "source": [
        "Import des differentes librairies necessaires"
      ],
      "id": "AUmXpZtJ2BMo"
    },
    {
      "cell_type": "code",
      "execution_count": null,
      "metadata": {
        "id": "52a0c7e0"
      },
      "outputs": [],
      "source": [
        "import pandas as pd\n",
        "import os\n",
        "import plotly.express as px\n",
        "import matplotlib as plt"
      ],
      "id": "52a0c7e0"
    },
    {
      "cell_type": "code",
      "execution_count": null,
      "metadata": {
        "id": "4c6051fb"
      },
      "outputs": [],
      "source": [
        "#set the max columns to none \n",
        "pd.set_option('display.max_columns', None)\n",
        "\n",
        "#l’autocompletion\n",
        "%config IPCompleter.greedy=True"
      ],
      "id": "4c6051fb"
    },
    {
      "cell_type": "markdown",
      "metadata": {
        "id": "JZBzDKam0eXm"
      },
      "source": [
        "# Import du du fichier Velib_mai_2022.csv"
      ],
      "id": "JZBzDKam0eXm"
    },
    {
      "cell_type": "code",
      "execution_count": null,
      "metadata": {
        "id": "51f702b7"
      },
      "outputs": [],
      "source": [
        "velib_mai22 = pd.read_csv('/content/drive/MyDrive/LePont - Capstone #3/Notebook & Data/Data/Velib_Mai_2022.csv')"
      ],
      "id": "51f702b7"
    },
    {
      "cell_type": "code",
      "execution_count": null,
      "metadata": {
        "colab": {
          "base_uri": "https://localhost:8080/",
          "height": 835
        },
        "id": "46f3588c",
        "outputId": "b618b8c2-789b-45dc-97fd-817968b85030"
      },
      "outputs": [
        {
          "output_type": "execute_result",
          "data": {
            "text/plain": [
              "                                        name stationcode  ebike  mechanical  \\\n",
              "0              Benjamin Godard - Victor Hugo       16107      2           1   \n",
              "1        Charonne - Robert et Sonia Delauney       11104      9           4   \n",
              "2                            Mairie du 12ème       12109      0           0   \n",
              "3                         Toudouze - Clauzel        9020      1           1   \n",
              "4                      Harpe - Saint-Germain        5001      2          34   \n",
              "...                                      ...         ...    ...         ...   \n",
              "6179647            Bateliers - Quai de Seine       34012      0           0   \n",
              "6179648                      Mairie du 17ème       17012      0           0   \n",
              "6179649            Docteur Calmette - Martre       21120      0           0   \n",
              "6179650        Georges Bernanos - Port Royal        5029      0           0   \n",
              "6179651            Bateliers - Quai de Seine       34012      0           0   \n",
              "\n",
              "                                 coordonnees_geo                    duedate  \\\n",
              "0                          [48.865983, 2.275725]  2022-05-01T00:33:45+02:00   \n",
              "1        [48.85590755596891, 2.3925706744194035]  2022-05-01T00:39:22+02:00   \n",
              "2             [48.840855311763, 2.3875549435616]  2022-05-01T00:40:15+02:00   \n",
              "3        [48.87929591733507, 2.3373600840568547]  2022-05-01T00:38:42+02:00   \n",
              "4         [48.85151881501689, 2.343670316040516]  2022-05-01T00:40:52+02:00   \n",
              "...                                          ...                        ...   \n",
              "6179647       [48.915817585516, 2.3239533298594]  2022-05-25T11:59:46+02:00   \n",
              "6179648       [48.884161848716, 2.3220794311037]  2022-05-17T20:32:53+02:00   \n",
              "6179649       [48.898969358483, 2.3086513252383]  2022-05-30T09:30:41+02:00   \n",
              "6179650       [48.840145213474, 2.3373574018478]  2022-05-08T20:51:56+02:00   \n",
              "6179651       [48.915817585516, 2.3239533298594]  2022-05-25T11:59:46+02:00   \n",
              "\n",
              "         numbikesavailable  numdocksavailable  capacity is_renting  \\\n",
              "0                        3                 31      35.0        OUI   \n",
              "1                       13                  5      20.0        OUI   \n",
              "2                        0                 30      30.0        NON   \n",
              "3                        2                 19      21.0        OUI   \n",
              "4                       36                  8      45.0        OUI   \n",
              "...                    ...                ...       ...        ...   \n",
              "6179647                  0                 26      26.0        NON   \n",
              "6179648                  0                 24      24.0        NON   \n",
              "6179649                  0                 30      30.0        NON   \n",
              "6179650                  0                 30      30.0        NON   \n",
              "6179651                  0                 26      26.0        NON   \n",
              "\n",
              "        is_installed nom_arrondissement_communes is_returning  \\\n",
              "0                OUI                       Paris          OUI   \n",
              "1                OUI                       Paris          OUI   \n",
              "2                OUI                       Paris          NON   \n",
              "3                OUI                       Paris          OUI   \n",
              "4                OUI                       Paris          OUI   \n",
              "...              ...                         ...          ...   \n",
              "6179647          NON        Saint-Ouen-sur-Seine          NON   \n",
              "6179648          OUI                       Paris          NON   \n",
              "6179649          NON                      Clichy          NON   \n",
              "6179650          OUI                       Paris          NON   \n",
              "6179651          NON        Saint-Ouen-sur-Seine          NON   \n",
              "\n",
              "                   ping_time  \n",
              "0        01/05/2022 00:50:01  \n",
              "1        01/05/2022 00:50:01  \n",
              "2        01/05/2022 00:50:01  \n",
              "3        01/05/2022 00:50:01  \n",
              "4        01/05/2022 00:50:01  \n",
              "...                      ...  \n",
              "6179647  01/06/2022 16:40:02  \n",
              "6179648  01/06/2022 16:50:01  \n",
              "6179649  01/06/2022 16:50:01  \n",
              "6179650  01/06/2022 16:50:01  \n",
              "6179651  01/06/2022 16:50:01  \n",
              "\n",
              "[6179652 rows x 14 columns]"
            ],
            "text/html": [
              "\n",
              "  <div id=\"df-7cfd4d13-afb7-4561-a08b-d56f064dfa2e\">\n",
              "    <div class=\"colab-df-container\">\n",
              "      <div>\n",
              "<style scoped>\n",
              "    .dataframe tbody tr th:only-of-type {\n",
              "        vertical-align: middle;\n",
              "    }\n",
              "\n",
              "    .dataframe tbody tr th {\n",
              "        vertical-align: top;\n",
              "    }\n",
              "\n",
              "    .dataframe thead th {\n",
              "        text-align: right;\n",
              "    }\n",
              "</style>\n",
              "<table border=\"1\" class=\"dataframe\">\n",
              "  <thead>\n",
              "    <tr style=\"text-align: right;\">\n",
              "      <th></th>\n",
              "      <th>name</th>\n",
              "      <th>stationcode</th>\n",
              "      <th>ebike</th>\n",
              "      <th>mechanical</th>\n",
              "      <th>coordonnees_geo</th>\n",
              "      <th>duedate</th>\n",
              "      <th>numbikesavailable</th>\n",
              "      <th>numdocksavailable</th>\n",
              "      <th>capacity</th>\n",
              "      <th>is_renting</th>\n",
              "      <th>is_installed</th>\n",
              "      <th>nom_arrondissement_communes</th>\n",
              "      <th>is_returning</th>\n",
              "      <th>ping_time</th>\n",
              "    </tr>\n",
              "  </thead>\n",
              "  <tbody>\n",
              "    <tr>\n",
              "      <th>0</th>\n",
              "      <td>Benjamin Godard - Victor Hugo</td>\n",
              "      <td>16107</td>\n",
              "      <td>2</td>\n",
              "      <td>1</td>\n",
              "      <td>[48.865983, 2.275725]</td>\n",
              "      <td>2022-05-01T00:33:45+02:00</td>\n",
              "      <td>3</td>\n",
              "      <td>31</td>\n",
              "      <td>35.0</td>\n",
              "      <td>OUI</td>\n",
              "      <td>OUI</td>\n",
              "      <td>Paris</td>\n",
              "      <td>OUI</td>\n",
              "      <td>01/05/2022 00:50:01</td>\n",
              "    </tr>\n",
              "    <tr>\n",
              "      <th>1</th>\n",
              "      <td>Charonne - Robert et Sonia Delauney</td>\n",
              "      <td>11104</td>\n",
              "      <td>9</td>\n",
              "      <td>4</td>\n",
              "      <td>[48.85590755596891, 2.3925706744194035]</td>\n",
              "      <td>2022-05-01T00:39:22+02:00</td>\n",
              "      <td>13</td>\n",
              "      <td>5</td>\n",
              "      <td>20.0</td>\n",
              "      <td>OUI</td>\n",
              "      <td>OUI</td>\n",
              "      <td>Paris</td>\n",
              "      <td>OUI</td>\n",
              "      <td>01/05/2022 00:50:01</td>\n",
              "    </tr>\n",
              "    <tr>\n",
              "      <th>2</th>\n",
              "      <td>Mairie du 12ème</td>\n",
              "      <td>12109</td>\n",
              "      <td>0</td>\n",
              "      <td>0</td>\n",
              "      <td>[48.840855311763, 2.3875549435616]</td>\n",
              "      <td>2022-05-01T00:40:15+02:00</td>\n",
              "      <td>0</td>\n",
              "      <td>30</td>\n",
              "      <td>30.0</td>\n",
              "      <td>NON</td>\n",
              "      <td>OUI</td>\n",
              "      <td>Paris</td>\n",
              "      <td>NON</td>\n",
              "      <td>01/05/2022 00:50:01</td>\n",
              "    </tr>\n",
              "    <tr>\n",
              "      <th>3</th>\n",
              "      <td>Toudouze - Clauzel</td>\n",
              "      <td>9020</td>\n",
              "      <td>1</td>\n",
              "      <td>1</td>\n",
              "      <td>[48.87929591733507, 2.3373600840568547]</td>\n",
              "      <td>2022-05-01T00:38:42+02:00</td>\n",
              "      <td>2</td>\n",
              "      <td>19</td>\n",
              "      <td>21.0</td>\n",
              "      <td>OUI</td>\n",
              "      <td>OUI</td>\n",
              "      <td>Paris</td>\n",
              "      <td>OUI</td>\n",
              "      <td>01/05/2022 00:50:01</td>\n",
              "    </tr>\n",
              "    <tr>\n",
              "      <th>4</th>\n",
              "      <td>Harpe - Saint-Germain</td>\n",
              "      <td>5001</td>\n",
              "      <td>2</td>\n",
              "      <td>34</td>\n",
              "      <td>[48.85151881501689, 2.343670316040516]</td>\n",
              "      <td>2022-05-01T00:40:52+02:00</td>\n",
              "      <td>36</td>\n",
              "      <td>8</td>\n",
              "      <td>45.0</td>\n",
              "      <td>OUI</td>\n",
              "      <td>OUI</td>\n",
              "      <td>Paris</td>\n",
              "      <td>OUI</td>\n",
              "      <td>01/05/2022 00:50:01</td>\n",
              "    </tr>\n",
              "    <tr>\n",
              "      <th>...</th>\n",
              "      <td>...</td>\n",
              "      <td>...</td>\n",
              "      <td>...</td>\n",
              "      <td>...</td>\n",
              "      <td>...</td>\n",
              "      <td>...</td>\n",
              "      <td>...</td>\n",
              "      <td>...</td>\n",
              "      <td>...</td>\n",
              "      <td>...</td>\n",
              "      <td>...</td>\n",
              "      <td>...</td>\n",
              "      <td>...</td>\n",
              "      <td>...</td>\n",
              "    </tr>\n",
              "    <tr>\n",
              "      <th>6179647</th>\n",
              "      <td>Bateliers - Quai de Seine</td>\n",
              "      <td>34012</td>\n",
              "      <td>0</td>\n",
              "      <td>0</td>\n",
              "      <td>[48.915817585516, 2.3239533298594]</td>\n",
              "      <td>2022-05-25T11:59:46+02:00</td>\n",
              "      <td>0</td>\n",
              "      <td>26</td>\n",
              "      <td>26.0</td>\n",
              "      <td>NON</td>\n",
              "      <td>NON</td>\n",
              "      <td>Saint-Ouen-sur-Seine</td>\n",
              "      <td>NON</td>\n",
              "      <td>01/06/2022 16:40:02</td>\n",
              "    </tr>\n",
              "    <tr>\n",
              "      <th>6179648</th>\n",
              "      <td>Mairie du 17ème</td>\n",
              "      <td>17012</td>\n",
              "      <td>0</td>\n",
              "      <td>0</td>\n",
              "      <td>[48.884161848716, 2.3220794311037]</td>\n",
              "      <td>2022-05-17T20:32:53+02:00</td>\n",
              "      <td>0</td>\n",
              "      <td>24</td>\n",
              "      <td>24.0</td>\n",
              "      <td>NON</td>\n",
              "      <td>OUI</td>\n",
              "      <td>Paris</td>\n",
              "      <td>NON</td>\n",
              "      <td>01/06/2022 16:50:01</td>\n",
              "    </tr>\n",
              "    <tr>\n",
              "      <th>6179649</th>\n",
              "      <td>Docteur Calmette - Martre</td>\n",
              "      <td>21120</td>\n",
              "      <td>0</td>\n",
              "      <td>0</td>\n",
              "      <td>[48.898969358483, 2.3086513252383]</td>\n",
              "      <td>2022-05-30T09:30:41+02:00</td>\n",
              "      <td>0</td>\n",
              "      <td>30</td>\n",
              "      <td>30.0</td>\n",
              "      <td>NON</td>\n",
              "      <td>NON</td>\n",
              "      <td>Clichy</td>\n",
              "      <td>NON</td>\n",
              "      <td>01/06/2022 16:50:01</td>\n",
              "    </tr>\n",
              "    <tr>\n",
              "      <th>6179650</th>\n",
              "      <td>Georges Bernanos - Port Royal</td>\n",
              "      <td>5029</td>\n",
              "      <td>0</td>\n",
              "      <td>0</td>\n",
              "      <td>[48.840145213474, 2.3373574018478]</td>\n",
              "      <td>2022-05-08T20:51:56+02:00</td>\n",
              "      <td>0</td>\n",
              "      <td>30</td>\n",
              "      <td>30.0</td>\n",
              "      <td>NON</td>\n",
              "      <td>OUI</td>\n",
              "      <td>Paris</td>\n",
              "      <td>NON</td>\n",
              "      <td>01/06/2022 16:50:01</td>\n",
              "    </tr>\n",
              "    <tr>\n",
              "      <th>6179651</th>\n",
              "      <td>Bateliers - Quai de Seine</td>\n",
              "      <td>34012</td>\n",
              "      <td>0</td>\n",
              "      <td>0</td>\n",
              "      <td>[48.915817585516, 2.3239533298594]</td>\n",
              "      <td>2022-05-25T11:59:46+02:00</td>\n",
              "      <td>0</td>\n",
              "      <td>26</td>\n",
              "      <td>26.0</td>\n",
              "      <td>NON</td>\n",
              "      <td>NON</td>\n",
              "      <td>Saint-Ouen-sur-Seine</td>\n",
              "      <td>NON</td>\n",
              "      <td>01/06/2022 16:50:01</td>\n",
              "    </tr>\n",
              "  </tbody>\n",
              "</table>\n",
              "<p>6179652 rows × 14 columns</p>\n",
              "</div>\n",
              "      <button class=\"colab-df-convert\" onclick=\"convertToInteractive('df-7cfd4d13-afb7-4561-a08b-d56f064dfa2e')\"\n",
              "              title=\"Convert this dataframe to an interactive table.\"\n",
              "              style=\"display:none;\">\n",
              "        \n",
              "  <svg xmlns=\"http://www.w3.org/2000/svg\" height=\"24px\"viewBox=\"0 0 24 24\"\n",
              "       width=\"24px\">\n",
              "    <path d=\"M0 0h24v24H0V0z\" fill=\"none\"/>\n",
              "    <path d=\"M18.56 5.44l.94 2.06.94-2.06 2.06-.94-2.06-.94-.94-2.06-.94 2.06-2.06.94zm-11 1L8.5 8.5l.94-2.06 2.06-.94-2.06-.94L8.5 2.5l-.94 2.06-2.06.94zm10 10l.94 2.06.94-2.06 2.06-.94-2.06-.94-.94-2.06-.94 2.06-2.06.94z\"/><path d=\"M17.41 7.96l-1.37-1.37c-.4-.4-.92-.59-1.43-.59-.52 0-1.04.2-1.43.59L10.3 9.45l-7.72 7.72c-.78.78-.78 2.05 0 2.83L4 21.41c.39.39.9.59 1.41.59.51 0 1.02-.2 1.41-.59l7.78-7.78 2.81-2.81c.8-.78.8-2.07 0-2.86zM5.41 20L4 18.59l7.72-7.72 1.47 1.35L5.41 20z\"/>\n",
              "  </svg>\n",
              "      </button>\n",
              "      \n",
              "  <style>\n",
              "    .colab-df-container {\n",
              "      display:flex;\n",
              "      flex-wrap:wrap;\n",
              "      gap: 12px;\n",
              "    }\n",
              "\n",
              "    .colab-df-convert {\n",
              "      background-color: #E8F0FE;\n",
              "      border: none;\n",
              "      border-radius: 50%;\n",
              "      cursor: pointer;\n",
              "      display: none;\n",
              "      fill: #1967D2;\n",
              "      height: 32px;\n",
              "      padding: 0 0 0 0;\n",
              "      width: 32px;\n",
              "    }\n",
              "\n",
              "    .colab-df-convert:hover {\n",
              "      background-color: #E2EBFA;\n",
              "      box-shadow: 0px 1px 2px rgba(60, 64, 67, 0.3), 0px 1px 3px 1px rgba(60, 64, 67, 0.15);\n",
              "      fill: #174EA6;\n",
              "    }\n",
              "\n",
              "    [theme=dark] .colab-df-convert {\n",
              "      background-color: #3B4455;\n",
              "      fill: #D2E3FC;\n",
              "    }\n",
              "\n",
              "    [theme=dark] .colab-df-convert:hover {\n",
              "      background-color: #434B5C;\n",
              "      box-shadow: 0px 1px 3px 1px rgba(0, 0, 0, 0.15);\n",
              "      filter: drop-shadow(0px 1px 2px rgba(0, 0, 0, 0.3));\n",
              "      fill: #FFFFFF;\n",
              "    }\n",
              "  </style>\n",
              "\n",
              "      <script>\n",
              "        const buttonEl =\n",
              "          document.querySelector('#df-7cfd4d13-afb7-4561-a08b-d56f064dfa2e button.colab-df-convert');\n",
              "        buttonEl.style.display =\n",
              "          google.colab.kernel.accessAllowed ? 'block' : 'none';\n",
              "\n",
              "        async function convertToInteractive(key) {\n",
              "          const element = document.querySelector('#df-7cfd4d13-afb7-4561-a08b-d56f064dfa2e');\n",
              "          const dataTable =\n",
              "            await google.colab.kernel.invokeFunction('convertToInteractive',\n",
              "                                                     [key], {});\n",
              "          if (!dataTable) return;\n",
              "\n",
              "          const docLinkHtml = 'Like what you see? Visit the ' +\n",
              "            '<a target=\"_blank\" href=https://colab.research.google.com/notebooks/data_table.ipynb>data table notebook</a>'\n",
              "            + ' to learn more about interactive tables.';\n",
              "          element.innerHTML = '';\n",
              "          dataTable['output_type'] = 'display_data';\n",
              "          await google.colab.output.renderOutput(dataTable, element);\n",
              "          const docLink = document.createElement('div');\n",
              "          docLink.innerHTML = docLinkHtml;\n",
              "          element.appendChild(docLink);\n",
              "        }\n",
              "      </script>\n",
              "    </div>\n",
              "  </div>\n",
              "  "
            ]
          },
          "metadata": {},
          "execution_count": 9
        }
      ],
      "source": [
        "velib_mai22 "
      ],
      "id": "46f3588c"
    },
    {
      "cell_type": "markdown",
      "metadata": {
        "id": "3fT9n9o01nPY"
      },
      "source": [
        "# Overview de la data"
      ],
      "id": "3fT9n9o01nPY"
    },
    {
      "cell_type": "code",
      "execution_count": null,
      "metadata": {
        "colab": {
          "base_uri": "https://localhost:8080/"
        },
        "id": "c3073b64",
        "outputId": "857866d5-30a2-4141-d972-9a0ef984e498"
      },
      "outputs": [
        {
          "output_type": "execute_result",
          "data": {
            "text/plain": [
              "(6179652, 14)"
            ]
          },
          "metadata": {},
          "execution_count": 10
        }
      ],
      "source": [
        "velib_mai22.shape"
      ],
      "id": "c3073b64"
    },
    {
      "cell_type": "code",
      "execution_count": null,
      "metadata": {
        "colab": {
          "base_uri": "https://localhost:8080/",
          "height": 300
        },
        "id": "7322a7f4",
        "outputId": "285980b7-dd48-42aa-d7f4-4ea36681e84d"
      },
      "outputs": [
        {
          "output_type": "execute_result",
          "data": {
            "text/plain": [
              "              ebike    mechanical  numbikesavailable  numdocksavailable  \\\n",
              "count  6.179652e+06  6.179652e+06       6.179652e+06       6.179652e+06   \n",
              "mean   4.203222e+00  6.658806e+00       1.086203e+01       1.952219e+01   \n",
              "std    4.428199e+00  8.629621e+00       1.060225e+01       1.256577e+01   \n",
              "min    0.000000e+00  0.000000e+00       0.000000e+00       0.000000e+00   \n",
              "25%    1.000000e+00  1.000000e+00       3.000000e+00       1.000000e+01   \n",
              "50%    3.000000e+00  3.000000e+00       7.000000e+00       1.800000e+01   \n",
              "75%    6.000000e+00  1.000000e+01       1.600000e+01       2.700000e+01   \n",
              "max    5.900000e+01  7.100000e+01       8.400000e+01       6.800000e+01   \n",
              "\n",
              "           capacity  \n",
              "count  6.179637e+06  \n",
              "mean   3.150209e+01  \n",
              "std    1.167978e+01  \n",
              "min    0.000000e+00  \n",
              "25%    2.300000e+01  \n",
              "50%    2.900000e+01  \n",
              "75%    3.700000e+01  \n",
              "max    7.400000e+01  "
            ],
            "text/html": [
              "\n",
              "  <div id=\"df-af93cfb9-a983-4307-8819-3225bea5eef8\">\n",
              "    <div class=\"colab-df-container\">\n",
              "      <div>\n",
              "<style scoped>\n",
              "    .dataframe tbody tr th:only-of-type {\n",
              "        vertical-align: middle;\n",
              "    }\n",
              "\n",
              "    .dataframe tbody tr th {\n",
              "        vertical-align: top;\n",
              "    }\n",
              "\n",
              "    .dataframe thead th {\n",
              "        text-align: right;\n",
              "    }\n",
              "</style>\n",
              "<table border=\"1\" class=\"dataframe\">\n",
              "  <thead>\n",
              "    <tr style=\"text-align: right;\">\n",
              "      <th></th>\n",
              "      <th>ebike</th>\n",
              "      <th>mechanical</th>\n",
              "      <th>numbikesavailable</th>\n",
              "      <th>numdocksavailable</th>\n",
              "      <th>capacity</th>\n",
              "    </tr>\n",
              "  </thead>\n",
              "  <tbody>\n",
              "    <tr>\n",
              "      <th>count</th>\n",
              "      <td>6.179652e+06</td>\n",
              "      <td>6.179652e+06</td>\n",
              "      <td>6.179652e+06</td>\n",
              "      <td>6.179652e+06</td>\n",
              "      <td>6.179637e+06</td>\n",
              "    </tr>\n",
              "    <tr>\n",
              "      <th>mean</th>\n",
              "      <td>4.203222e+00</td>\n",
              "      <td>6.658806e+00</td>\n",
              "      <td>1.086203e+01</td>\n",
              "      <td>1.952219e+01</td>\n",
              "      <td>3.150209e+01</td>\n",
              "    </tr>\n",
              "    <tr>\n",
              "      <th>std</th>\n",
              "      <td>4.428199e+00</td>\n",
              "      <td>8.629621e+00</td>\n",
              "      <td>1.060225e+01</td>\n",
              "      <td>1.256577e+01</td>\n",
              "      <td>1.167978e+01</td>\n",
              "    </tr>\n",
              "    <tr>\n",
              "      <th>min</th>\n",
              "      <td>0.000000e+00</td>\n",
              "      <td>0.000000e+00</td>\n",
              "      <td>0.000000e+00</td>\n",
              "      <td>0.000000e+00</td>\n",
              "      <td>0.000000e+00</td>\n",
              "    </tr>\n",
              "    <tr>\n",
              "      <th>25%</th>\n",
              "      <td>1.000000e+00</td>\n",
              "      <td>1.000000e+00</td>\n",
              "      <td>3.000000e+00</td>\n",
              "      <td>1.000000e+01</td>\n",
              "      <td>2.300000e+01</td>\n",
              "    </tr>\n",
              "    <tr>\n",
              "      <th>50%</th>\n",
              "      <td>3.000000e+00</td>\n",
              "      <td>3.000000e+00</td>\n",
              "      <td>7.000000e+00</td>\n",
              "      <td>1.800000e+01</td>\n",
              "      <td>2.900000e+01</td>\n",
              "    </tr>\n",
              "    <tr>\n",
              "      <th>75%</th>\n",
              "      <td>6.000000e+00</td>\n",
              "      <td>1.000000e+01</td>\n",
              "      <td>1.600000e+01</td>\n",
              "      <td>2.700000e+01</td>\n",
              "      <td>3.700000e+01</td>\n",
              "    </tr>\n",
              "    <tr>\n",
              "      <th>max</th>\n",
              "      <td>5.900000e+01</td>\n",
              "      <td>7.100000e+01</td>\n",
              "      <td>8.400000e+01</td>\n",
              "      <td>6.800000e+01</td>\n",
              "      <td>7.400000e+01</td>\n",
              "    </tr>\n",
              "  </tbody>\n",
              "</table>\n",
              "</div>\n",
              "      <button class=\"colab-df-convert\" onclick=\"convertToInteractive('df-af93cfb9-a983-4307-8819-3225bea5eef8')\"\n",
              "              title=\"Convert this dataframe to an interactive table.\"\n",
              "              style=\"display:none;\">\n",
              "        \n",
              "  <svg xmlns=\"http://www.w3.org/2000/svg\" height=\"24px\"viewBox=\"0 0 24 24\"\n",
              "       width=\"24px\">\n",
              "    <path d=\"M0 0h24v24H0V0z\" fill=\"none\"/>\n",
              "    <path d=\"M18.56 5.44l.94 2.06.94-2.06 2.06-.94-2.06-.94-.94-2.06-.94 2.06-2.06.94zm-11 1L8.5 8.5l.94-2.06 2.06-.94-2.06-.94L8.5 2.5l-.94 2.06-2.06.94zm10 10l.94 2.06.94-2.06 2.06-.94-2.06-.94-.94-2.06-.94 2.06-2.06.94z\"/><path d=\"M17.41 7.96l-1.37-1.37c-.4-.4-.92-.59-1.43-.59-.52 0-1.04.2-1.43.59L10.3 9.45l-7.72 7.72c-.78.78-.78 2.05 0 2.83L4 21.41c.39.39.9.59 1.41.59.51 0 1.02-.2 1.41-.59l7.78-7.78 2.81-2.81c.8-.78.8-2.07 0-2.86zM5.41 20L4 18.59l7.72-7.72 1.47 1.35L5.41 20z\"/>\n",
              "  </svg>\n",
              "      </button>\n",
              "      \n",
              "  <style>\n",
              "    .colab-df-container {\n",
              "      display:flex;\n",
              "      flex-wrap:wrap;\n",
              "      gap: 12px;\n",
              "    }\n",
              "\n",
              "    .colab-df-convert {\n",
              "      background-color: #E8F0FE;\n",
              "      border: none;\n",
              "      border-radius: 50%;\n",
              "      cursor: pointer;\n",
              "      display: none;\n",
              "      fill: #1967D2;\n",
              "      height: 32px;\n",
              "      padding: 0 0 0 0;\n",
              "      width: 32px;\n",
              "    }\n",
              "\n",
              "    .colab-df-convert:hover {\n",
              "      background-color: #E2EBFA;\n",
              "      box-shadow: 0px 1px 2px rgba(60, 64, 67, 0.3), 0px 1px 3px 1px rgba(60, 64, 67, 0.15);\n",
              "      fill: #174EA6;\n",
              "    }\n",
              "\n",
              "    [theme=dark] .colab-df-convert {\n",
              "      background-color: #3B4455;\n",
              "      fill: #D2E3FC;\n",
              "    }\n",
              "\n",
              "    [theme=dark] .colab-df-convert:hover {\n",
              "      background-color: #434B5C;\n",
              "      box-shadow: 0px 1px 3px 1px rgba(0, 0, 0, 0.15);\n",
              "      filter: drop-shadow(0px 1px 2px rgba(0, 0, 0, 0.3));\n",
              "      fill: #FFFFFF;\n",
              "    }\n",
              "  </style>\n",
              "\n",
              "      <script>\n",
              "        const buttonEl =\n",
              "          document.querySelector('#df-af93cfb9-a983-4307-8819-3225bea5eef8 button.colab-df-convert');\n",
              "        buttonEl.style.display =\n",
              "          google.colab.kernel.accessAllowed ? 'block' : 'none';\n",
              "\n",
              "        async function convertToInteractive(key) {\n",
              "          const element = document.querySelector('#df-af93cfb9-a983-4307-8819-3225bea5eef8');\n",
              "          const dataTable =\n",
              "            await google.colab.kernel.invokeFunction('convertToInteractive',\n",
              "                                                     [key], {});\n",
              "          if (!dataTable) return;\n",
              "\n",
              "          const docLinkHtml = 'Like what you see? Visit the ' +\n",
              "            '<a target=\"_blank\" href=https://colab.research.google.com/notebooks/data_table.ipynb>data table notebook</a>'\n",
              "            + ' to learn more about interactive tables.';\n",
              "          element.innerHTML = '';\n",
              "          dataTable['output_type'] = 'display_data';\n",
              "          await google.colab.output.renderOutput(dataTable, element);\n",
              "          const docLink = document.createElement('div');\n",
              "          docLink.innerHTML = docLinkHtml;\n",
              "          element.appendChild(docLink);\n",
              "        }\n",
              "      </script>\n",
              "    </div>\n",
              "  </div>\n",
              "  "
            ]
          },
          "metadata": {},
          "execution_count": 11
        }
      ],
      "source": [
        "velib_mai22.describe()"
      ],
      "id": "7322a7f4"
    },
    {
      "cell_type": "code",
      "execution_count": null,
      "metadata": {
        "colab": {
          "base_uri": "https://localhost:8080/"
        },
        "id": "56eee449",
        "outputId": "13a2e913-07f7-42d4-df10-263b04db87bf"
      },
      "outputs": [
        {
          "output_type": "execute_result",
          "data": {
            "text/plain": [
              "0"
            ]
          },
          "metadata": {},
          "execution_count": 12
        }
      ],
      "source": [
        "velib_mai22.duplicated().sum()"
      ],
      "id": "56eee449"
    },
    {
      "cell_type": "code",
      "execution_count": null,
      "metadata": {
        "colab": {
          "base_uri": "https://localhost:8080/"
        },
        "id": "24f7fb14",
        "outputId": "d301e15e-af84-4095-f62e-a5ad83f4818b"
      },
      "outputs": [
        {
          "output_type": "execute_result",
          "data": {
            "text/plain": [
              "name                           15\n",
              "stationcode                     0\n",
              "ebike                           0\n",
              "mechanical                      0\n",
              "coordonnees_geo                15\n",
              "duedate                         0\n",
              "numbikesavailable               0\n",
              "numdocksavailable               0\n",
              "capacity                       15\n",
              "is_renting                      0\n",
              "is_installed                    0\n",
              "nom_arrondissement_communes    15\n",
              "is_returning                    0\n",
              "ping_time                       0\n",
              "dtype: int64"
            ]
          },
          "metadata": {},
          "execution_count": 13
        }
      ],
      "source": [
        "#15 ligne avec des na à verifier \n",
        "velib_mai22.isna().sum()"
      ],
      "id": "24f7fb14"
    },
    {
      "cell_type": "code",
      "execution_count": null,
      "metadata": {
        "colab": {
          "base_uri": "https://localhost:8080/"
        },
        "id": "4b0d1a67",
        "outputId": "be3423ad-9b67-4fb1-a095-f5a987c9c9c6"
      },
      "outputs": [
        {
          "output_type": "execute_result",
          "data": {
            "text/plain": [
              "1423"
            ]
          },
          "metadata": {},
          "execution_count": 14
        }
      ],
      "source": [
        "velib_mai22['stationcode'].nunique()"
      ],
      "id": "4b0d1a67"
    },
    {
      "cell_type": "code",
      "execution_count": null,
      "metadata": {
        "colab": {
          "base_uri": "https://localhost:8080/"
        },
        "id": "4f8deab5",
        "outputId": "be011674-65a4-4f41-bd79-8d303a3a0cd9"
      },
      "outputs": [
        {
          "output_type": "execute_result",
          "data": {
            "text/plain": [
              "name                             1420\n",
              "stationcode                      1423\n",
              "ebike                              60\n",
              "mechanical                         72\n",
              "coordonnees_geo                  1457\n",
              "duedate                        322987\n",
              "numbikesavailable                  85\n",
              "numdocksavailable                  69\n",
              "capacity                           63\n",
              "is_renting                          2\n",
              "is_installed                        2\n",
              "nom_arrondissement_communes        61\n",
              "is_returning                        2\n",
              "ping_time                        4464\n",
              "dtype: int64"
            ]
          },
          "metadata": {},
          "execution_count": 15
        }
      ],
      "source": [
        "#Quelques incohérence à regarder\n",
        "velib_mai22.nunique()"
      ],
      "id": "4f8deab5"
    },
    {
      "cell_type": "code",
      "source": [
        "#incohérence - ligne à supprimer\n",
        "velib_mai22.loc[velib_mai22['stationcode']=='42004']"
      ],
      "metadata": {
        "colab": {
          "base_uri": "https://localhost:8080/",
          "height": 1000
        },
        "id": "1jJKdYcezNY2",
        "outputId": "a0fc546e-e723-4e9c-cc2f-7475bbedaead"
      },
      "id": "1jJKdYcezNY2",
      "execution_count": null,
      "outputs": [
        {
          "output_type": "execute_result",
          "data": {
            "text/plain": [
              "                                          name stationcode  ebike  mechanical  \\\n",
              "1386     Westermeyer - Paul Vaillant-Couturier       42004      5          25   \n",
              "2811     Westermeyer - Paul Vaillant-Couturier       42004      5          25   \n",
              "4167     Westermeyer - Paul Vaillant-Couturier       42004      6          26   \n",
              "5627     Westermeyer - Paul Vaillant-Couturier       42004      6          26   \n",
              "7046     Westermeyer - Paul Vaillant-Couturier       42004      6          26   \n",
              "...                                        ...         ...    ...         ...   \n",
              "6173388  Westermeyer - Paul Vaillant-Couturier       42004      1          17   \n",
              "6174881  Westermeyer - Paul Vaillant-Couturier       42004      1          14   \n",
              "6176338  Westermeyer - Paul Vaillant-Couturier       42004      1          14   \n",
              "6177757  Westermeyer - Paul Vaillant-Couturier       42004      1          14   \n",
              "6179177  Westermeyer - Paul Vaillant-Couturier       42004      1          14   \n",
              "\n",
              "                                  coordonnees_geo                    duedate  \\\n",
              "1386     [48.819116181578764, 2.3966637253761296]  2022-05-01T00:40:21+02:00   \n",
              "2811     [48.819116181578764, 2.3966637253761296]  2022-05-01T00:40:21+02:00   \n",
              "4167     [48.819116181578764, 2.3966637253761296]  2022-05-01T00:40:21+02:00   \n",
              "5627     [48.819116181578764, 2.3966637253761296]  2022-05-01T00:40:21+02:00   \n",
              "7046     [48.819116181578764, 2.3966637253761296]  2022-05-01T00:40:21+02:00   \n",
              "...                                           ...                        ...   \n",
              "6173388  [48.819116181578764, 2.3966637253761296]  2022-05-31T23:26:26+02:00   \n",
              "6174881  [48.819116181578764, 2.3966637253761296]  2022-05-31T23:26:26+02:00   \n",
              "6176338  [48.819116181578764, 2.3966637253761296]  2022-05-31T23:26:26+02:00   \n",
              "6177757  [48.819116181578764, 2.3966637253761296]  2022-05-31T23:26:26+02:00   \n",
              "6179177  [48.819116181578764, 2.3966637253761296]  2022-05-31T23:26:26+02:00   \n",
              "\n",
              "         numbikesavailable  numdocksavailable  capacity is_renting  \\\n",
              "1386                    30                  1      25.0        OUI   \n",
              "2811                    30                  1      25.0        OUI   \n",
              "4167                    32                  0      25.0        OUI   \n",
              "5627                    32                  0      25.0        OUI   \n",
              "7046                    32                  0      25.0        OUI   \n",
              "...                    ...                ...       ...        ...   \n",
              "6173388                 18                  6      25.0        OUI   \n",
              "6174881                 15                  9      25.0        OUI   \n",
              "6176338                 15                  9      25.0        OUI   \n",
              "6177757                 15                  9      25.0        OUI   \n",
              "6179177                 15                  9      25.0        OUI   \n",
              "\n",
              "        is_installed nom_arrondissement_communes is_returning  \\\n",
              "1386             OUI              Ivry-sur-Seine          OUI   \n",
              "2811             OUI              Ivry-sur-Seine          OUI   \n",
              "4167             OUI              Ivry-sur-Seine          OUI   \n",
              "5627             OUI              Ivry-sur-Seine          OUI   \n",
              "7046             OUI              Ivry-sur-Seine          OUI   \n",
              "...              ...                         ...          ...   \n",
              "6173388          OUI              Ivry-sur-Seine          OUI   \n",
              "6174881          OUI              Ivry-sur-Seine          OUI   \n",
              "6176338          OUI              Ivry-sur-Seine          OUI   \n",
              "6177757          OUI              Ivry-sur-Seine          OUI   \n",
              "6179177          OUI              Ivry-sur-Seine          OUI   \n",
              "\n",
              "                   ping_time  \n",
              "1386     01/05/2022 00:50:01  \n",
              "2811     01/05/2022 01:00:01  \n",
              "4167     01/05/2022 01:10:01  \n",
              "5627     01/05/2022 01:20:01  \n",
              "7046     01/05/2022 01:30:01  \n",
              "...                      ...  \n",
              "6173388  31/05/2022 23:40:01  \n",
              "6174881  31/05/2022 23:50:01  \n",
              "6176338  01/06/2022 00:00:01  \n",
              "6177757  01/06/2022 00:10:01  \n",
              "6179177  01/06/2022 00:20:01  \n",
              "\n",
              "[4365 rows x 14 columns]"
            ],
            "text/html": [
              "\n",
              "  <div id=\"df-71eec9c8-3275-4ff2-8915-b39dca3fb75d\">\n",
              "    <div class=\"colab-df-container\">\n",
              "      <div>\n",
              "<style scoped>\n",
              "    .dataframe tbody tr th:only-of-type {\n",
              "        vertical-align: middle;\n",
              "    }\n",
              "\n",
              "    .dataframe tbody tr th {\n",
              "        vertical-align: top;\n",
              "    }\n",
              "\n",
              "    .dataframe thead th {\n",
              "        text-align: right;\n",
              "    }\n",
              "</style>\n",
              "<table border=\"1\" class=\"dataframe\">\n",
              "  <thead>\n",
              "    <tr style=\"text-align: right;\">\n",
              "      <th></th>\n",
              "      <th>name</th>\n",
              "      <th>stationcode</th>\n",
              "      <th>ebike</th>\n",
              "      <th>mechanical</th>\n",
              "      <th>coordonnees_geo</th>\n",
              "      <th>duedate</th>\n",
              "      <th>numbikesavailable</th>\n",
              "      <th>numdocksavailable</th>\n",
              "      <th>capacity</th>\n",
              "      <th>is_renting</th>\n",
              "      <th>is_installed</th>\n",
              "      <th>nom_arrondissement_communes</th>\n",
              "      <th>is_returning</th>\n",
              "      <th>ping_time</th>\n",
              "    </tr>\n",
              "  </thead>\n",
              "  <tbody>\n",
              "    <tr>\n",
              "      <th>1386</th>\n",
              "      <td>Westermeyer - Paul Vaillant-Couturier</td>\n",
              "      <td>42004</td>\n",
              "      <td>5</td>\n",
              "      <td>25</td>\n",
              "      <td>[48.819116181578764, 2.3966637253761296]</td>\n",
              "      <td>2022-05-01T00:40:21+02:00</td>\n",
              "      <td>30</td>\n",
              "      <td>1</td>\n",
              "      <td>25.0</td>\n",
              "      <td>OUI</td>\n",
              "      <td>OUI</td>\n",
              "      <td>Ivry-sur-Seine</td>\n",
              "      <td>OUI</td>\n",
              "      <td>01/05/2022 00:50:01</td>\n",
              "    </tr>\n",
              "    <tr>\n",
              "      <th>2811</th>\n",
              "      <td>Westermeyer - Paul Vaillant-Couturier</td>\n",
              "      <td>42004</td>\n",
              "      <td>5</td>\n",
              "      <td>25</td>\n",
              "      <td>[48.819116181578764, 2.3966637253761296]</td>\n",
              "      <td>2022-05-01T00:40:21+02:00</td>\n",
              "      <td>30</td>\n",
              "      <td>1</td>\n",
              "      <td>25.0</td>\n",
              "      <td>OUI</td>\n",
              "      <td>OUI</td>\n",
              "      <td>Ivry-sur-Seine</td>\n",
              "      <td>OUI</td>\n",
              "      <td>01/05/2022 01:00:01</td>\n",
              "    </tr>\n",
              "    <tr>\n",
              "      <th>4167</th>\n",
              "      <td>Westermeyer - Paul Vaillant-Couturier</td>\n",
              "      <td>42004</td>\n",
              "      <td>6</td>\n",
              "      <td>26</td>\n",
              "      <td>[48.819116181578764, 2.3966637253761296]</td>\n",
              "      <td>2022-05-01T00:40:21+02:00</td>\n",
              "      <td>32</td>\n",
              "      <td>0</td>\n",
              "      <td>25.0</td>\n",
              "      <td>OUI</td>\n",
              "      <td>OUI</td>\n",
              "      <td>Ivry-sur-Seine</td>\n",
              "      <td>OUI</td>\n",
              "      <td>01/05/2022 01:10:01</td>\n",
              "    </tr>\n",
              "    <tr>\n",
              "      <th>5627</th>\n",
              "      <td>Westermeyer - Paul Vaillant-Couturier</td>\n",
              "      <td>42004</td>\n",
              "      <td>6</td>\n",
              "      <td>26</td>\n",
              "      <td>[48.819116181578764, 2.3966637253761296]</td>\n",
              "      <td>2022-05-01T00:40:21+02:00</td>\n",
              "      <td>32</td>\n",
              "      <td>0</td>\n",
              "      <td>25.0</td>\n",
              "      <td>OUI</td>\n",
              "      <td>OUI</td>\n",
              "      <td>Ivry-sur-Seine</td>\n",
              "      <td>OUI</td>\n",
              "      <td>01/05/2022 01:20:01</td>\n",
              "    </tr>\n",
              "    <tr>\n",
              "      <th>7046</th>\n",
              "      <td>Westermeyer - Paul Vaillant-Couturier</td>\n",
              "      <td>42004</td>\n",
              "      <td>6</td>\n",
              "      <td>26</td>\n",
              "      <td>[48.819116181578764, 2.3966637253761296]</td>\n",
              "      <td>2022-05-01T00:40:21+02:00</td>\n",
              "      <td>32</td>\n",
              "      <td>0</td>\n",
              "      <td>25.0</td>\n",
              "      <td>OUI</td>\n",
              "      <td>OUI</td>\n",
              "      <td>Ivry-sur-Seine</td>\n",
              "      <td>OUI</td>\n",
              "      <td>01/05/2022 01:30:01</td>\n",
              "    </tr>\n",
              "    <tr>\n",
              "      <th>...</th>\n",
              "      <td>...</td>\n",
              "      <td>...</td>\n",
              "      <td>...</td>\n",
              "      <td>...</td>\n",
              "      <td>...</td>\n",
              "      <td>...</td>\n",
              "      <td>...</td>\n",
              "      <td>...</td>\n",
              "      <td>...</td>\n",
              "      <td>...</td>\n",
              "      <td>...</td>\n",
              "      <td>...</td>\n",
              "      <td>...</td>\n",
              "      <td>...</td>\n",
              "    </tr>\n",
              "    <tr>\n",
              "      <th>6173388</th>\n",
              "      <td>Westermeyer - Paul Vaillant-Couturier</td>\n",
              "      <td>42004</td>\n",
              "      <td>1</td>\n",
              "      <td>17</td>\n",
              "      <td>[48.819116181578764, 2.3966637253761296]</td>\n",
              "      <td>2022-05-31T23:26:26+02:00</td>\n",
              "      <td>18</td>\n",
              "      <td>6</td>\n",
              "      <td>25.0</td>\n",
              "      <td>OUI</td>\n",
              "      <td>OUI</td>\n",
              "      <td>Ivry-sur-Seine</td>\n",
              "      <td>OUI</td>\n",
              "      <td>31/05/2022 23:40:01</td>\n",
              "    </tr>\n",
              "    <tr>\n",
              "      <th>6174881</th>\n",
              "      <td>Westermeyer - Paul Vaillant-Couturier</td>\n",
              "      <td>42004</td>\n",
              "      <td>1</td>\n",
              "      <td>14</td>\n",
              "      <td>[48.819116181578764, 2.3966637253761296]</td>\n",
              "      <td>2022-05-31T23:26:26+02:00</td>\n",
              "      <td>15</td>\n",
              "      <td>9</td>\n",
              "      <td>25.0</td>\n",
              "      <td>OUI</td>\n",
              "      <td>OUI</td>\n",
              "      <td>Ivry-sur-Seine</td>\n",
              "      <td>OUI</td>\n",
              "      <td>31/05/2022 23:50:01</td>\n",
              "    </tr>\n",
              "    <tr>\n",
              "      <th>6176338</th>\n",
              "      <td>Westermeyer - Paul Vaillant-Couturier</td>\n",
              "      <td>42004</td>\n",
              "      <td>1</td>\n",
              "      <td>14</td>\n",
              "      <td>[48.819116181578764, 2.3966637253761296]</td>\n",
              "      <td>2022-05-31T23:26:26+02:00</td>\n",
              "      <td>15</td>\n",
              "      <td>9</td>\n",
              "      <td>25.0</td>\n",
              "      <td>OUI</td>\n",
              "      <td>OUI</td>\n",
              "      <td>Ivry-sur-Seine</td>\n",
              "      <td>OUI</td>\n",
              "      <td>01/06/2022 00:00:01</td>\n",
              "    </tr>\n",
              "    <tr>\n",
              "      <th>6177757</th>\n",
              "      <td>Westermeyer - Paul Vaillant-Couturier</td>\n",
              "      <td>42004</td>\n",
              "      <td>1</td>\n",
              "      <td>14</td>\n",
              "      <td>[48.819116181578764, 2.3966637253761296]</td>\n",
              "      <td>2022-05-31T23:26:26+02:00</td>\n",
              "      <td>15</td>\n",
              "      <td>9</td>\n",
              "      <td>25.0</td>\n",
              "      <td>OUI</td>\n",
              "      <td>OUI</td>\n",
              "      <td>Ivry-sur-Seine</td>\n",
              "      <td>OUI</td>\n",
              "      <td>01/06/2022 00:10:01</td>\n",
              "    </tr>\n",
              "    <tr>\n",
              "      <th>6179177</th>\n",
              "      <td>Westermeyer - Paul Vaillant-Couturier</td>\n",
              "      <td>42004</td>\n",
              "      <td>1</td>\n",
              "      <td>14</td>\n",
              "      <td>[48.819116181578764, 2.3966637253761296]</td>\n",
              "      <td>2022-05-31T23:26:26+02:00</td>\n",
              "      <td>15</td>\n",
              "      <td>9</td>\n",
              "      <td>25.0</td>\n",
              "      <td>OUI</td>\n",
              "      <td>OUI</td>\n",
              "      <td>Ivry-sur-Seine</td>\n",
              "      <td>OUI</td>\n",
              "      <td>01/06/2022 00:20:01</td>\n",
              "    </tr>\n",
              "  </tbody>\n",
              "</table>\n",
              "<p>4365 rows × 14 columns</p>\n",
              "</div>\n",
              "      <button class=\"colab-df-convert\" onclick=\"convertToInteractive('df-71eec9c8-3275-4ff2-8915-b39dca3fb75d')\"\n",
              "              title=\"Convert this dataframe to an interactive table.\"\n",
              "              style=\"display:none;\">\n",
              "        \n",
              "  <svg xmlns=\"http://www.w3.org/2000/svg\" height=\"24px\"viewBox=\"0 0 24 24\"\n",
              "       width=\"24px\">\n",
              "    <path d=\"M0 0h24v24H0V0z\" fill=\"none\"/>\n",
              "    <path d=\"M18.56 5.44l.94 2.06.94-2.06 2.06-.94-2.06-.94-.94-2.06-.94 2.06-2.06.94zm-11 1L8.5 8.5l.94-2.06 2.06-.94-2.06-.94L8.5 2.5l-.94 2.06-2.06.94zm10 10l.94 2.06.94-2.06 2.06-.94-2.06-.94-.94-2.06-.94 2.06-2.06.94z\"/><path d=\"M17.41 7.96l-1.37-1.37c-.4-.4-.92-.59-1.43-.59-.52 0-1.04.2-1.43.59L10.3 9.45l-7.72 7.72c-.78.78-.78 2.05 0 2.83L4 21.41c.39.39.9.59 1.41.59.51 0 1.02-.2 1.41-.59l7.78-7.78 2.81-2.81c.8-.78.8-2.07 0-2.86zM5.41 20L4 18.59l7.72-7.72 1.47 1.35L5.41 20z\"/>\n",
              "  </svg>\n",
              "      </button>\n",
              "      \n",
              "  <style>\n",
              "    .colab-df-container {\n",
              "      display:flex;\n",
              "      flex-wrap:wrap;\n",
              "      gap: 12px;\n",
              "    }\n",
              "\n",
              "    .colab-df-convert {\n",
              "      background-color: #E8F0FE;\n",
              "      border: none;\n",
              "      border-radius: 50%;\n",
              "      cursor: pointer;\n",
              "      display: none;\n",
              "      fill: #1967D2;\n",
              "      height: 32px;\n",
              "      padding: 0 0 0 0;\n",
              "      width: 32px;\n",
              "    }\n",
              "\n",
              "    .colab-df-convert:hover {\n",
              "      background-color: #E2EBFA;\n",
              "      box-shadow: 0px 1px 2px rgba(60, 64, 67, 0.3), 0px 1px 3px 1px rgba(60, 64, 67, 0.15);\n",
              "      fill: #174EA6;\n",
              "    }\n",
              "\n",
              "    [theme=dark] .colab-df-convert {\n",
              "      background-color: #3B4455;\n",
              "      fill: #D2E3FC;\n",
              "    }\n",
              "\n",
              "    [theme=dark] .colab-df-convert:hover {\n",
              "      background-color: #434B5C;\n",
              "      box-shadow: 0px 1px 3px 1px rgba(0, 0, 0, 0.15);\n",
              "      filter: drop-shadow(0px 1px 2px rgba(0, 0, 0, 0.3));\n",
              "      fill: #FFFFFF;\n",
              "    }\n",
              "  </style>\n",
              "\n",
              "      <script>\n",
              "        const buttonEl =\n",
              "          document.querySelector('#df-71eec9c8-3275-4ff2-8915-b39dca3fb75d button.colab-df-convert');\n",
              "        buttonEl.style.display =\n",
              "          google.colab.kernel.accessAllowed ? 'block' : 'none';\n",
              "\n",
              "        async function convertToInteractive(key) {\n",
              "          const element = document.querySelector('#df-71eec9c8-3275-4ff2-8915-b39dca3fb75d');\n",
              "          const dataTable =\n",
              "            await google.colab.kernel.invokeFunction('convertToInteractive',\n",
              "                                                     [key], {});\n",
              "          if (!dataTable) return;\n",
              "\n",
              "          const docLinkHtml = 'Like what you see? Visit the ' +\n",
              "            '<a target=\"_blank\" href=https://colab.research.google.com/notebooks/data_table.ipynb>data table notebook</a>'\n",
              "            + ' to learn more about interactive tables.';\n",
              "          element.innerHTML = '';\n",
              "          dataTable['output_type'] = 'display_data';\n",
              "          await google.colab.output.renderOutput(dataTable, element);\n",
              "          const docLink = document.createElement('div');\n",
              "          docLink.innerHTML = docLinkHtml;\n",
              "          element.appendChild(docLink);\n",
              "        }\n",
              "      </script>\n",
              "    </div>\n",
              "  </div>\n",
              "  "
            ]
          },
          "metadata": {},
          "execution_count": 16
        }
      ]
    },
    {
      "cell_type": "code",
      "source": [
        "#suppression de la station 42004\n",
        "velib_mai22 = velib_mai22.drop(velib_mai22.loc[velib_mai22['stationcode']=='42004'].index)"
      ],
      "metadata": {
        "id": "wQ7E8DM91EVT"
      },
      "id": "wQ7E8DM91EVT",
      "execution_count": null,
      "outputs": []
    },
    {
      "cell_type": "markdown",
      "metadata": {
        "id": "BE8irg02NI91"
      },
      "source": [
        "# Traitement des NaN "
      ],
      "id": "BE8irg02NI91"
    },
    {
      "cell_type": "code",
      "execution_count": null,
      "metadata": {
        "id": "GOTbT42gNPjB"
      },
      "outputs": [],
      "source": [
        "#on stock les lignes Nan dans un nouveau dataframe\n",
        "velib_mai22_na = velib_mai22.loc[(velib_mai22['capacity'].isna() == True) & (velib_mai22['name'].isna() == True) & (velib_mai22['nom_arrondissement_communes'].isna() == True) & (velib_mai22['coordonnees_geo'].isna() == True)]"
      ],
      "id": "GOTbT42gNPjB"
    },
    {
      "cell_type": "code",
      "execution_count": null,
      "metadata": {
        "id": "ZqIrmCJMPNsn"
      },
      "outputs": [],
      "source": [
        "#Drop des ligne avec Nan\n",
        "velib_mai22 = velib_mai22.dropna()"
      ],
      "id": "ZqIrmCJMPNsn"
    },
    {
      "cell_type": "code",
      "execution_count": null,
      "metadata": {
        "colab": {
          "base_uri": "https://localhost:8080/"
        },
        "id": "viU4bmutPWhn",
        "outputId": "654dd6bd-7983-43d3-af6e-3b263d871489"
      },
      "outputs": [
        {
          "output_type": "execute_result",
          "data": {
            "text/plain": [
              "(6175272, 14)"
            ]
          },
          "metadata": {},
          "execution_count": 20
        }
      ],
      "source": [
        "velib_mai22.shape"
      ],
      "id": "viU4bmutPWhn"
    },
    {
      "cell_type": "markdown",
      "metadata": {
        "id": "AxtAeNZhGeSm"
      },
      "source": [
        "# Préparation du fichier"
      ],
      "id": "AxtAeNZhGeSm"
    },
    {
      "cell_type": "markdown",
      "metadata": {
        "id": "43TPsTkgRAIS"
      },
      "source": [
        "## Split de la colonne coordonnees_geo"
      ],
      "id": "43TPsTkgRAIS"
    },
    {
      "cell_type": "code",
      "execution_count": null,
      "metadata": {
        "colab": {
          "base_uri": "https://localhost:8080/"
        },
        "id": "c7d74ab3",
        "outputId": "dcb35808-9549-4f0d-9169-1adb5e21f275"
      },
      "outputs": [
        {
          "output_type": "stream",
          "name": "stderr",
          "text": [
            "/usr/local/lib/python3.7/dist-packages/ipykernel_launcher.py:2: FutureWarning: The default value of regex will change from True to False in a future version. In addition, single character regular expressions will *not* be treated as literal strings when regex=True.\n",
            "  \n",
            "/usr/local/lib/python3.7/dist-packages/ipykernel_launcher.py:3: FutureWarning: The default value of regex will change from True to False in a future version. In addition, single character regular expressions will *not* be treated as literal strings when regex=True.\n",
            "  This is separate from the ipykernel package so we can avoid doing imports until\n"
          ]
        }
      ],
      "source": [
        "#SUPPRESSION DES CROCHETS COLONNE COORDONNEES_GEO\n",
        "velib_mai22['coordonnees_geo'] = velib_mai22['coordonnees_geo'].str.replace('[','')\n",
        "velib_mai22['coordonnees_geo'] = velib_mai22['coordonnees_geo'].str.replace(']','')"
      ],
      "id": "c7d74ab3"
    },
    {
      "cell_type": "code",
      "execution_count": null,
      "metadata": {
        "id": "a34dbc59"
      },
      "outputs": [],
      "source": [
        "#SPLIT COLONNE COORDONNEES_GEO ET CREATION COLONNE LATITUDE ET LONGITUDE\n",
        "velib_mai22[['latitude', 'longitude']] = velib_mai22['coordonnees_geo'].str.split(',', expand=True)"
      ],
      "id": "a34dbc59"
    },
    {
      "cell_type": "code",
      "execution_count": null,
      "metadata": {
        "id": "20062175"
      },
      "outputs": [],
      "source": [
        "#CONVERSION TYPE DE DONNEES EN FLOAT\n",
        "velib_mai22['latitude'] = velib_mai22['latitude'].astype(float)\n",
        "velib_mai22['longitude'] = velib_mai22['longitude'].astype(float)"
      ],
      "id": "20062175"
    },
    {
      "cell_type": "markdown",
      "metadata": {
        "id": "2_qxwygeRMK1"
      },
      "source": [
        "## Formatage des dates"
      ],
      "id": "2_qxwygeRMK1"
    },
    {
      "cell_type": "code",
      "execution_count": null,
      "metadata": {
        "id": "3bcfdbe3"
      },
      "outputs": [],
      "source": [
        "#CONVERSION DATE df['date'] = pd.to_datetime(df['date'], format='%d-%m-%Y %Hh%Mmin%Ssec'))\n",
        "velib_mai22['duedate'] = pd.to_datetime(velib_mai22['duedate'], format='%Y-%m-%dT%H:%M:%S')"
      ],
      "id": "3bcfdbe3"
    },
    {
      "cell_type": "code",
      "execution_count": null,
      "metadata": {
        "id": "4qp94JM7RPhn"
      },
      "outputs": [],
      "source": [
        "#CONVERSION DATE df['date'] = pd.to_datetime(df['date'], format='%d-%m-%Y %Hh%Mmin%Ssec'))\n",
        "velib_mai22['ping_time'] = pd.to_datetime(velib_mai22['ping_time'], format='%d/%m/%Y %H:%M:%S')"
      ],
      "id": "4qp94JM7RPhn"
    },
    {
      "cell_type": "markdown",
      "metadata": {
        "id": "YQeP0LT9TU2r"
      },
      "source": [
        "## Formatage de la colonne capacity"
      ],
      "id": "YQeP0LT9TU2r"
    },
    {
      "cell_type": "code",
      "execution_count": null,
      "metadata": {
        "id": "-zv7qHf6TjBi"
      },
      "outputs": [],
      "source": [
        "velib_mai22['capacity'] = velib_mai22['capacity'].astype('int32')"
      ],
      "id": "-zv7qHf6TjBi"
    },
    {
      "cell_type": "code",
      "execution_count": null,
      "metadata": {
        "colab": {
          "base_uri": "https://localhost:8080/"
        },
        "id": "e38f68d4",
        "outputId": "da07bdfc-9f30-4230-9be3-3f9819b4b667"
      },
      "outputs": [
        {
          "output_type": "stream",
          "name": "stdout",
          "text": [
            "<class 'pandas.core.frame.DataFrame'>\n",
            "Int64Index: 6175272 entries, 0 to 6179651\n",
            "Data columns (total 16 columns):\n",
            " #   Column                       Dtype                                \n",
            "---  ------                       -----                                \n",
            " 0   name                         object                               \n",
            " 1   stationcode                  object                               \n",
            " 2   ebike                        int64                                \n",
            " 3   mechanical                   int64                                \n",
            " 4   coordonnees_geo              object                               \n",
            " 5   duedate                      datetime64[ns, pytz.FixedOffset(120)]\n",
            " 6   numbikesavailable            int64                                \n",
            " 7   numdocksavailable            int64                                \n",
            " 8   capacity                     int32                                \n",
            " 9   is_renting                   object                               \n",
            " 10  is_installed                 object                               \n",
            " 11  nom_arrondissement_communes  object                               \n",
            " 12  is_returning                 object                               \n",
            " 13  ping_time                    datetime64[ns]                       \n",
            " 14  latitude                     float64                              \n",
            " 15  longitude                    float64                              \n",
            "dtypes: datetime64[ns, pytz.FixedOffset(120)](1), datetime64[ns](1), float64(2), int32(1), int64(4), object(7)\n",
            "memory usage: 777.4+ MB\n"
          ]
        }
      ],
      "source": [
        "velib_mai22.info()"
      ],
      "id": "e38f68d4"
    },
    {
      "cell_type": "markdown",
      "metadata": {
        "id": "Qy9y1WjxGPAB"
      },
      "source": [
        "# Enrichissement des données"
      ],
      "id": "Qy9y1WjxGPAB"
    },
    {
      "cell_type": "markdown",
      "metadata": {
        "id": "4kT5D1HRmU2D"
      },
      "source": [
        "## Ajout de l'altitude"
      ],
      "id": "4kT5D1HRmU2D"
    },
    {
      "cell_type": "code",
      "execution_count": null,
      "metadata": {
        "id": "Iywb_0uomX08"
      },
      "outputs": [],
      "source": [
        "import requests\n",
        "\n",
        "\n",
        "# USGS Elevation Point Query Service\n",
        "url = r'https://api.open-elevation.com/api/v1/lookup?locations='\n",
        "\n",
        "def elevation_function(lat_column, lon_column):\n",
        "\n",
        "    # format query string and return query value\n",
        "  result = requests.get((url + str(lat_column) +','+ str(lon_column)))\n",
        "  return (result.json()['results'][0]['elevation'])\n",
        "  "
      ],
      "id": "Iywb_0uomX08"
    },
    {
      "cell_type": "code",
      "execution_count": null,
      "metadata": {
        "id": "aUpSGrpm0jVw"
      },
      "outputs": [],
      "source": [
        "#stations = velib_mai22.groupby('stationcode')[['latitude','longitude']].max().reset_index()\n",
        "#stations['altitude'] = stations.apply(lambda stations: elevation_function(stations['latitude'], stations['longitude']), axis=1)"
      ],
      "id": "aUpSGrpm0jVw"
    },
    {
      "cell_type": "code",
      "execution_count": null,
      "metadata": {
        "id": "1d8Y3g-twsFU"
      },
      "outputs": [],
      "source": [
        "#velib_mai22 = velib_mai22.merge(stations[['stationcode','altitude']], on = 'stationcode')"
      ],
      "id": "1d8Y3g-twsFU"
    },
    {
      "cell_type": "markdown",
      "metadata": {
        "id": "YomwMg4VJQwz"
      },
      "source": [
        "## Fonction de calcul de la disponibilité"
      ],
      "id": "YomwMg4VJQwz"
    },
    {
      "cell_type": "code",
      "execution_count": null,
      "metadata": {
        "id": "Qc987EesJ4LT"
      },
      "outputs": [],
      "source": [
        "def taux_dispo(capacite,velo_dispo,etat):\n",
        "  if etat == 'OUI':\n",
        "    if capacite == 0 :\n",
        "      return 0\n",
        "    else :\n",
        "      return velo_dispo/capacite\n",
        "  if etat == \"NON\":\n",
        "    return 0\n",
        "  else :\n",
        "    return -1\n"
      ],
      "id": "Qc987EesJ4LT"
    },
    {
      "cell_type": "markdown",
      "metadata": {
        "id": "OdDSAugoQzoy"
      },
      "source": [
        "## Calcul de la disponibilité pour la location"
      ],
      "id": "OdDSAugoQzoy"
    },
    {
      "cell_type": "code",
      "execution_count": null,
      "metadata": {
        "id": "wvk4ylXpM4_S"
      },
      "outputs": [],
      "source": [
        "velib_mai22['taux_location'] = velib_mai22.apply(lambda velib_mai22: taux_dispo(velib_mai22['capacity'],velib_mai22['numbikesavailable'],velib_mai22['is_renting']), axis=1)"
      ],
      "id": "wvk4ylXpM4_S"
    },
    {
      "cell_type": "markdown",
      "metadata": {
        "id": "DQH7v1S9JvXg"
      },
      "source": [
        "## Calcul disponibilité retour"
      ],
      "id": "DQH7v1S9JvXg"
    },
    {
      "cell_type": "code",
      "execution_count": null,
      "metadata": {
        "id": "1pNHljvyJ5TO"
      },
      "outputs": [],
      "source": [
        "velib_mai22['taux_retour'] = velib_mai22.apply(lambda velib_mai22: taux_dispo(velib_mai22['capacity'],velib_mai22['numbikesavailable'],velib_mai22['is_returning']), axis=1)"
      ],
      "id": "1pNHljvyJ5TO"
    },
    {
      "cell_type": "markdown",
      "source": [
        "## Calcul de la variation de la disponibilité retour"
      ],
      "metadata": {
        "id": "aAd-zWHnprPu"
      },
      "id": "aAd-zWHnprPu"
    },
    {
      "cell_type": "code",
      "source": [
        "velib_mai22 = velib_mai22.sort_values(by=['stationcode','ping_time'])"
      ],
      "metadata": {
        "id": "LlVdlTwzoBXj"
      },
      "id": "LlVdlTwzoBXj",
      "execution_count": null,
      "outputs": []
    },
    {
      "cell_type": "code",
      "source": [
        "velib_mai22['Variation_taux_dispo_retour'] = velib_mai22.groupby('stationcode')['taux_retour'].diff()"
      ],
      "metadata": {
        "id": "l3cyJR2DokbM"
      },
      "id": "l3cyJR2DokbM",
      "execution_count": null,
      "outputs": []
    },
    {
      "cell_type": "code",
      "source": [
        ""
      ],
      "metadata": {
        "id": "BEOJmiw1pywS"
      },
      "id": "BEOJmiw1pywS",
      "execution_count": null,
      "outputs": []
    },
    {
      "cell_type": "markdown",
      "metadata": {
        "id": "Zj_Z4cda0ep-"
      },
      "source": [
        "## Calcul de la part de velo electrique"
      ],
      "id": "Zj_Z4cda0ep-"
    },
    {
      "cell_type": "code",
      "execution_count": null,
      "metadata": {
        "id": "XS4z-krO15a8"
      },
      "outputs": [],
      "source": [
        "def taux_velo_elec(ebike,bike):\n",
        "  if bike == 0:\n",
        "    return 0\n",
        "  else:\n",
        "    return ebike/bike"
      ],
      "id": "XS4z-krO15a8"
    },
    {
      "cell_type": "code",
      "execution_count": null,
      "metadata": {
        "id": "WGFMOW4O0qSc"
      },
      "outputs": [],
      "source": [
        "velib_mai22['taux_velo_electrique'] = velib_mai22.apply(lambda velib_mai22: taux_velo_elec(velib_mai22['ebike'],velib_mai22['numdocksavailable']), axis=1)"
      ],
      "id": "WGFMOW4O0qSc"
    },
    {
      "cell_type": "markdown",
      "metadata": {
        "id": "coH5W5-LriIh"
      },
      "source": [
        "## Extraction du fichier"
      ],
      "id": "coH5W5-LriIh"
    },
    {
      "cell_type": "code",
      "execution_count": null,
      "metadata": {
        "id": "_c26TasMrYve"
      },
      "outputs": [],
      "source": [
        "velib_mai22.to_csv('/content/drive/MyDrive/LePont - Capstone #3/Notebook & Data/Data/Velib_Mai_2022_enrichie.csv',index=False)"
      ],
      "id": "_c26TasMrYve"
    }
  ],
  "metadata": {
    "colab": {
      "collapsed_sections": [
        "_R3C56sc1pkG",
        "JZBzDKam0eXm",
        "3fT9n9o01nPY",
        "BE8irg02NI91",
        "43TPsTkgRAIS",
        "2_qxwygeRMK1",
        "YQeP0LT9TU2r",
        "4kT5D1HRmU2D",
        "YomwMg4VJQwz",
        "OdDSAugoQzoy",
        "DQH7v1S9JvXg",
        "Zj_Z4cda0ep-",
        "CReM5466Sh5z",
        "6bf24545",
        "ad450dc5",
        "f35a2184"
      ],
      "name": "Vélib_Mai2022_enrichie.ipynb",
      "provenance": [],
      "include_colab_link": true
    },
    "kernelspec": {
      "display_name": "Python 3 (ipykernel)",
      "language": "python",
      "name": "python3"
    },
    "language_info": {
      "codemirror_mode": {
        "name": "ipython",
        "version": 3
      },
      "file_extension": ".py",
      "mimetype": "text/x-python",
      "name": "python",
      "nbconvert_exporter": "python",
      "pygments_lexer": "ipython3",
      "version": "3.9.12"
    }
  },
  "nbformat": 4,
  "nbformat_minor": 5
}