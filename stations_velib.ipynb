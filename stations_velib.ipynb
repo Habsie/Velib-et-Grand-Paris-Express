{
  "nbformat": 4,
  "nbformat_minor": 0,
  "metadata": {
    "colab": {
      "name": "stations_velib.ipynb",
      "provenance": [],
      "include_colab_link": true
    },
    "kernelspec": {
      "name": "python3",
      "display_name": "Python 3"
    },
    "language_info": {
      "name": "python"
    }
  },
  "cells": [
    {
      "cell_type": "markdown",
      "metadata": {
        "id": "view-in-github",
        "colab_type": "text"
      },
      "source": [
        "<a href=\"https://colab.research.google.com/github/Habsie/Velib-et-Grand-Paris-Express/blob/main/stations_velib.ipynb\" target=\"_parent\"><img src=\"https://colab.research.google.com/assets/colab-badge.svg\" alt=\"Open In Colab\"/></a>"
      ]
    },
    {
      "cell_type": "markdown",
      "source": [
        "# Préparation des stations velib"
      ],
      "metadata": {
        "id": "GIy-KkJYp6kr"
      }
    },
    {
      "cell_type": "code",
      "execution_count": null,
      "metadata": {
        "colab": {
          "base_uri": "https://localhost:8080/"
        },
        "id": "ZG2hxh8yWO4H",
        "outputId": "0b0bd7b6-e375-4e10-ef30-a46e76aa5f56"
      },
      "outputs": [
        {
          "output_type": "stream",
          "name": "stdout",
          "text": [
            "Drive already mounted at /content/drive; to attempt to forcibly remount, call drive.mount(\"/content/drive\", force_remount=True).\n"
          ]
        }
      ],
      "source": [
        "from google.colab import drive\n",
        "drive.mount('/content/drive')"
      ]
    },
    {
      "cell_type": "code",
      "source": [
        "import pandas as pd\n",
        "import os\n",
        "import plotly.express as px\n",
        "import matplotlib as plt"
      ],
      "metadata": {
        "id": "xpJDfpxRWZcZ"
      },
      "execution_count": null,
      "outputs": []
    },
    {
      "cell_type": "markdown",
      "source": [
        "# Import des fichiers"
      ],
      "metadata": {
        "id": "riDE8urxp3Fx"
      }
    },
    {
      "cell_type": "code",
      "source": [
        "stations_velib = pd.read_csv('/content/drive/MyDrive/LePont - Capstone #3/Notebook & Data/Data/Velib_Mai_2022_enrichie.csv')"
      ],
      "metadata": {
        "id": "I2kpuX85Wfru"
      },
      "execution_count": null,
      "outputs": []
    },
    {
      "cell_type": "code",
      "source": [
        "villes_idf = pd.read_csv('/content/drive/MyDrive/LePont - Capstone #3/Notebook & Data/Data/Villes_idf_densite.csv')"
      ],
      "metadata": {
        "id": "hAjvyBTMnTUN"
      },
      "execution_count": null,
      "outputs": []
    },
    {
      "cell_type": "markdown",
      "source": [
        "# Listes des stations velib"
      ],
      "metadata": {
        "id": "Lc_5A5ZRo9Fg"
      }
    },
    {
      "cell_type": "code",
      "source": [
        "stations_velib = stations_velib[['name','stationcode','nom_arrondissement_communes','capacity','latitude','longitude']]"
      ],
      "metadata": {
        "id": "Or-BV1sXm2PI"
      },
      "execution_count": null,
      "outputs": []
    },
    {
      "cell_type": "code",
      "source": [
        "stations_velib = stations_velib.groupby('stationcode').max().reset_index()"
      ],
      "metadata": {
        "id": "6S-EwjlBm7G4"
      },
      "execution_count": null,
      "outputs": []
    },
    {
      "cell_type": "markdown",
      "source": [
        "# Ajout du code commune"
      ],
      "metadata": {
        "id": "u1MQr4ZIpC3m"
      }
    },
    {
      "cell_type": "code",
      "source": [
        "stations_velib = stations_velib.merge(villes_idf[['Code commune','Commune']], left_on='nom_arrondissement_communes',right_on='Commune')"
      ],
      "metadata": {
        "id": "2BEK1ZJhoCxQ"
      },
      "execution_count": null,
      "outputs": []
    },
    {
      "cell_type": "markdown",
      "source": [
        "# Nettoyage "
      ],
      "metadata": {
        "id": "gJd_5gQ7pIR9"
      }
    },
    {
      "cell_type": "code",
      "source": [
        "stations_velib = stations_velib.drop(['nom_arrondissement_communes'],axis = 1)"
      ],
      "metadata": {
        "id": "nZmAfrPApPYi"
      },
      "execution_count": null,
      "outputs": []
    },
    {
      "cell_type": "markdown",
      "source": [
        "# Extraction"
      ],
      "metadata": {
        "id": "RlsNFXKgmpVS"
      }
    },
    {
      "cell_type": "code",
      "source": [
        "stations_velib.to_csv('/content/drive/MyDrive/LePont - Capstone #3/Notebook & Data/Data/stations-velib.csv', index = False)"
      ],
      "metadata": {
        "id": "WQ0qCn2AWu-q"
      },
      "execution_count": null,
      "outputs": []
    }
  ]
}