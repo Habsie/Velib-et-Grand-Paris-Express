{
  "nbformat": 4,
  "nbformat_minor": 0,
  "metadata": {
    "colab": {
      "name": "stations_idf.ipynb",
      "provenance": [],
      "collapsed_sections": [
        "xHXI7NgvY4c5",
        "P8aD-PokgOW8",
        "faXat9-bgDwJ"
      ],
      "include_colab_link": true
    },
    "kernelspec": {
      "name": "python3",
      "display_name": "Python 3"
    },
    "language_info": {
      "name": "python"
    }
  },
  "cells": [
    {
      "cell_type": "markdown",
      "metadata": {
        "id": "view-in-github",
        "colab_type": "text"
      },
      "source": [
        "<a href=\"https://colab.research.google.com/github/Habsie/Velib-et-Grand-Paris-Express/blob/main/stations_idf.ipynb\" target=\"_parent\"><img src=\"https://colab.research.google.com/assets/colab-badge.svg\" alt=\"Open In Colab\"/></a>"
      ]
    },
    {
      "cell_type": "markdown",
      "source": [
        "# Préparation des stations du reseau ferré en idf"
      ],
      "metadata": {
        "id": "I3dR9FwPvmPu"
      }
    },
    {
      "cell_type": "code",
      "execution_count": null,
      "metadata": {
        "colab": {
          "base_uri": "https://localhost:8080/"
        },
        "id": "7DEwa7GEYkct",
        "outputId": "dc615e34-8362-49e2-ddba-cba82fb620fc"
      },
      "outputs": [
        {
          "output_type": "stream",
          "name": "stdout",
          "text": [
            "Mounted at /content/drive\n"
          ]
        }
      ],
      "source": [
        "from google.colab import drive\n",
        "drive.mount('/content/drive')"
      ]
    },
    {
      "cell_type": "code",
      "source": [
        "import pandas as pd\n",
        "import os\n",
        "import plotly.express as px\n",
        "import matplotlib as plt"
      ],
      "metadata": {
        "id": "hUM0cumbYvcL"
      },
      "execution_count": null,
      "outputs": []
    },
    {
      "cell_type": "markdown",
      "source": [
        "# Import des fichiers"
      ],
      "metadata": {
        "id": "xHXI7NgvY4c5"
      }
    },
    {
      "cell_type": "code",
      "source": [
        "stations_idf = pd.read_csv('/content/drive/MyDrive/LePont - Capstone #3/Notebook & Data/Data/emplacement-des-gares-idf.csv',sep=';')"
      ],
      "metadata": {
        "id": "dn4gc5TqY6ci"
      },
      "execution_count": null,
      "outputs": []
    },
    {
      "cell_type": "code",
      "source": [
        "zones_arrets = pd.read_csv('/content/drive/MyDrive/LePont - Capstone #3/Notebook & Data/Data/zones-d-arrets.csv',sep=';')"
      ],
      "metadata": {
        "id": "zl-UB5vpBodI"
      },
      "execution_count": null,
      "outputs": []
    },
    {
      "cell_type": "code",
      "source": [
        "stations_velib = pd.read_csv('/content/drive/MyDrive/LePont - Capstone #3/Notebook & Data/Data/stations-velib.csv')"
      ],
      "metadata": {
        "id": "jiz30jVjflPw"
      },
      "execution_count": null,
      "outputs": []
    },
    {
      "cell_type": "markdown",
      "source": [
        "# Traitement"
      ],
      "metadata": {
        "id": "vOZF2fVifyV0"
      }
    },
    {
      "cell_type": "markdown",
      "source": [
        "## Traitement stations_idf"
      ],
      "metadata": {
        "id": "P8aD-PokgOW8"
      }
    },
    {
      "cell_type": "code",
      "source": [
        "#trie des colonnes utiles\n",
        "stations_idf = stations_idf[['gares_id','Geo Point','nom','ligne','fer','id_ref_zdl']]"
      ],
      "metadata": {
        "id": "TvLALJT6ZBlO"
      },
      "execution_count": null,
      "outputs": []
    },
    {
      "cell_type": "code",
      "source": [
        "stations_idf = stations_idf.loc[stations_idf['fer'] == 0]"
      ],
      "metadata": {
        "id": "0XWUAwDHp4pA"
      },
      "execution_count": null,
      "outputs": []
    },
    {
      "cell_type": "code",
      "source": [
        "stations_idf['id_ref_zdl'] = stations_idf['id_ref_zdl'].astype(int)"
      ],
      "metadata": {
        "id": "yz9ucQbGCJkB"
      },
      "execution_count": null,
      "outputs": []
    },
    {
      "cell_type": "code",
      "source": [
        "#split des coordonnées\n",
        "stations_idf[['latitude','longitude']] = stations_idf['Geo Point'].str.split(',', expand=True)"
      ],
      "metadata": {
        "id": "bvAGCvMongtU"
      },
      "execution_count": null,
      "outputs": []
    },
    {
      "cell_type": "code",
      "source": [
        "stations_idf['latitude'] = pd.to_numeric(stations_idf['latitude'])\n",
        "stations_idf['longitude'] = pd.to_numeric(stations_idf['longitude'])"
      ],
      "metadata": {
        "id": "mI0jHX6BPJvc"
      },
      "execution_count": null,
      "outputs": []
    },
    {
      "cell_type": "markdown",
      "source": [
        "Ajout des villes dans stations_idf"
      ],
      "metadata": {
        "id": "Y665kb6iB8Kl"
      }
    },
    {
      "cell_type": "code",
      "source": [
        "zones_arrets = zones_arrets[['ZdAId','ZdATown','ZdAPostalRegion']]"
      ],
      "metadata": {
        "id": "DG7SWB7qDMQY"
      },
      "execution_count": null,
      "outputs": []
    },
    {
      "cell_type": "code",
      "source": [
        "stations_idf = stations_idf.merge(zones_arrets,left_on='id_ref_zdl',right_on='ZdAId',how='left')"
      ],
      "metadata": {
        "id": "UIJ1O8qJKLQo"
      },
      "execution_count": null,
      "outputs": []
    },
    {
      "cell_type": "markdown",
      "source": [
        "## Fonction calcul "
      ],
      "metadata": {
        "id": "u5VJEpv0ou96"
      }
    },
    {
      "cell_type": "code",
      "source": [
        "import geopy.distance\n",
        "import math\n",
        "\n",
        "def stations_rayon_300m(lat1,lon1):\n",
        "#initialisation à chaque appel de la fonction\n",
        "  nb_stations = 0\n",
        "  capacity_tot = 0\n",
        "\n",
        "  for station in range(len(stations_velib)):\n",
        "  \n",
        "    lat2 = stations_velib.iloc[station,3]\n",
        "    lon2 = stations_velib.iloc[station,4]\n",
        "    capacity = stations_velib.iloc[station,2]\n",
        "\n",
        "    \n",
        "\n",
        "    coords_1 = (lat1,lon1)\n",
        "    coords_2 = (lat2,lon2)\n",
        "\n",
        "    dist = geopy.distance.distance(coords_1, coords_2).m\n",
        "    \n",
        "    if dist < 300:\n",
        "      nb_stations = nb_stations + 1\n",
        "      capacity_tot = capacity_tot + capacity\n",
        "\n",
        "  return nb_stations,capacity_tot\n",
        "  \n"
      ],
      "metadata": {
        "id": "eAeorYQ4qukI"
      },
      "execution_count": null,
      "outputs": []
    },
    {
      "cell_type": "markdown",
      "source": [
        "## Création des colonnes 'nb_stations_velib_200m' et 'nb_bornes_200m'"
      ],
      "metadata": {
        "id": "MiK2U92xu2Gv"
      }
    },
    {
      "cell_type": "code",
      "source": [
        "stations_idf['result'] = stations_idf.apply( lambda stations_idf: stations_rayon_300m(stations_idf['latitude'],stations_idf['longitude']),axis=1)"
      ],
      "metadata": {
        "id": "QHRPTRi1Oglx"
      },
      "execution_count": null,
      "outputs": []
    },
    {
      "cell_type": "code",
      "source": [
        "stations_idf['result'] = stations_idf['result'].astype(str)\n",
        "stations_idf['result'] = stations_idf['result'].str.replace('(','')\n",
        "stations_idf['result'] = stations_idf['result'].str.replace(')','')"
      ],
      "metadata": {
        "colab": {
          "base_uri": "https://localhost:8080/"
        },
        "id": "SKaMehwefFWy",
        "outputId": "14b3cbd4-6783-4c4a-cc11-28241bafcd37"
      },
      "execution_count": null,
      "outputs": [
        {
          "output_type": "stream",
          "name": "stderr",
          "text": [
            "/usr/local/lib/python3.7/dist-packages/ipykernel_launcher.py:2: FutureWarning: The default value of regex will change from True to False in a future version. In addition, single character regular expressions will *not* be treated as literal strings when regex=True.\n",
            "  \n",
            "/usr/local/lib/python3.7/dist-packages/ipykernel_launcher.py:3: FutureWarning: The default value of regex will change from True to False in a future version. In addition, single character regular expressions will *not* be treated as literal strings when regex=True.\n",
            "  This is separate from the ipykernel package so we can avoid doing imports until\n"
          ]
        }
      ]
    },
    {
      "cell_type": "code",
      "source": [
        "stations_idf[['nb_stations_velib_300m','nb_bornes_300m']] = stations_idf['result'].str.split(',',expand=True)"
      ],
      "metadata": {
        "id": "LsMmFXxVruSi"
      },
      "execution_count": null,
      "outputs": []
    },
    {
      "cell_type": "code",
      "source": [
        "stations_idf['nb_stations_velib_300m'] = pd.to_numeric(stations_idf['nb_stations_velib_300m'])\n",
        "stations_idf['nb_bornes_300m'] = pd.to_numeric(stations_idf['nb_bornes_300m'])"
      ],
      "metadata": {
        "id": "lu9zSovwrudP"
      },
      "execution_count": null,
      "outputs": []
    },
    {
      "cell_type": "markdown",
      "source": [
        "# Remplacer les arrondissements de Paris par Paris"
      ],
      "metadata": {
        "id": "4diTmCfSPDZH"
      }
    },
    {
      "cell_type": "code",
      "source": [
        "stations_idf.loc[stations_idf['ZdATown'].str.startswith('Paris'), \"ZdATown\"] = 'Paris'"
      ],
      "metadata": {
        "id": "nmjoayvlJ3q1"
      },
      "execution_count": null,
      "outputs": []
    },
    {
      "cell_type": "code",
      "source": [
        "stations_idf['ZdAPostalRegion'] = stations_idf['ZdAPostalRegion'].astype(str)"
      ],
      "metadata": {
        "id": "woO7R6BwOxi6"
      },
      "execution_count": null,
      "outputs": []
    },
    {
      "cell_type": "code",
      "source": [
        "stations_idf.loc[stations_idf['ZdAPostalRegion'].str.startswith('75'), \"ZdAPostalRegion\"] = '75056'"
      ],
      "metadata": {
        "id": "_2PcOfcvOMNO"
      },
      "execution_count": null,
      "outputs": []
    },
    {
      "cell_type": "markdown",
      "source": [
        "# Nettoyage de stations_idf"
      ],
      "metadata": {
        "id": "nINZ57n_vDVn"
      }
    },
    {
      "cell_type": "code",
      "source": [
        "stations_idf = stations_idf.drop(['id_ref_zdl','ZdAId','result'],axis=1)"
      ],
      "metadata": {
        "id": "jipqs1DMfFe0"
      },
      "execution_count": null,
      "outputs": []
    },
    {
      "cell_type": "code",
      "source": [
        "stations_idf = stations_idf.rename(columns={\"gares_id\": \"id gare\", \"ZdATown\": \"Commune\", \"ZdAPostalRegion\":\"Code Commune\"})"
      ],
      "metadata": {
        "id": "HfCfa7SgtOTd"
      },
      "execution_count": null,
      "outputs": []
    },
    {
      "cell_type": "code",
      "source": [
        "stations_idf"
      ],
      "metadata": {
        "colab": {
          "base_uri": "https://localhost:8080/"
        },
        "id": "r3hPn6w4OGiC",
        "outputId": "202ed19e-0d90-4456-fa14-1b43d12b13bd"
      },
      "execution_count": null,
      "outputs": [
        {
          "output_type": "execute_result",
          "data": {
            "text/plain": [
              "     id gare                              Geo Point                       nom  \\\n",
              "0       19.0   48.75494652461008,2.3009868557349513                    Antony   \n",
              "1      152.0    48.87514981880684,2.295904904713175  Charles De Gaulle-Étoile   \n",
              "2      345.0   48.87371340578697,2.3276954096301736           Havre-Caumartin   \n",
              "3      586.0    48.84894464414299,2.395879435185689                    Nation   \n",
              "4      776.0    48.85316798396978,2.343285978923924              Saint-Michel   \n",
              "..       ...                                    ...                       ...   \n",
              "627    269.0   48.88813847669144,2.2497927690097654   Esplanade de la Défense   \n",
              "628   1076.0   48.93499415965736,2.3269510437797356                   La Noue   \n",
              "629   1093.0   48.87209702901093,2.4086200551769896          Adrienne Bolland   \n",
              "630   1213.0  48.896308469776066,2.3188044013442384          Honoré de Balzac   \n",
              "631   1194.0  48.955829393006596,2.3019910195900777          Épinay-sur-Seine   \n",
              "\n",
              "       ligne  fer   latitude  longitude                Commune Code Commune  \\\n",
              "0    ORLYVAL  0.0  48.754947   2.300987                 Antony        92002   \n",
              "1    METRO 1  0.0  48.875150   2.295905                  Paris        75056   \n",
              "2    METRO 9  0.0  48.873713   2.327695                  Paris        75056   \n",
              "3    METRO 9  0.0  48.848945   2.395879                  Paris        75056   \n",
              "4    METRO 4  0.0  48.853168   2.343286                  Paris        75056   \n",
              "..       ...  ...        ...        ...                    ...          ...   \n",
              "627  METRO 1  0.0  48.888138   2.249793             Courbevoie        92026   \n",
              "628   TRAM 1  0.0  48.934994   2.326951  Villeneuve-la-Garenne        92078   \n",
              "629  TRAM 3b  0.0  48.872097   2.408620                  Paris        75056   \n",
              "630  TRAM 3b  0.0  48.896308   2.318804                  Paris        75056   \n",
              "631   TRAM 8  0.0  48.955829   2.301991       Épinay-sur-Seine        93031   \n",
              "\n",
              "     nb_stations_velib_300m  nb_bornes_300m  \n",
              "0                         0               0  \n",
              "1                         4             116  \n",
              "2                         6             174  \n",
              "3                         5             201  \n",
              "4                         5             167  \n",
              "..                      ...             ...  \n",
              "627                       0               0  \n",
              "628                       0               0  \n",
              "629                       1              33  \n",
              "630                       3             109  \n",
              "631                       0               0  \n",
              "\n",
              "[632 rows x 11 columns]"
            ],
            "text/html": [
              "\n",
              "  <div id=\"df-d784ab2d-87b5-4e1a-a750-785dce92c598\">\n",
              "    <div class=\"colab-df-container\">\n",
              "      <div>\n",
              "<style scoped>\n",
              "    .dataframe tbody tr th:only-of-type {\n",
              "        vertical-align: middle;\n",
              "    }\n",
              "\n",
              "    .dataframe tbody tr th {\n",
              "        vertical-align: top;\n",
              "    }\n",
              "\n",
              "    .dataframe thead th {\n",
              "        text-align: right;\n",
              "    }\n",
              "</style>\n",
              "<table border=\"1\" class=\"dataframe\">\n",
              "  <thead>\n",
              "    <tr style=\"text-align: right;\">\n",
              "      <th></th>\n",
              "      <th>id gare</th>\n",
              "      <th>Geo Point</th>\n",
              "      <th>nom</th>\n",
              "      <th>ligne</th>\n",
              "      <th>fer</th>\n",
              "      <th>latitude</th>\n",
              "      <th>longitude</th>\n",
              "      <th>Commune</th>\n",
              "      <th>Code Commune</th>\n",
              "      <th>nb_stations_velib_300m</th>\n",
              "      <th>nb_bornes_300m</th>\n",
              "    </tr>\n",
              "  </thead>\n",
              "  <tbody>\n",
              "    <tr>\n",
              "      <th>0</th>\n",
              "      <td>19.0</td>\n",
              "      <td>48.75494652461008,2.3009868557349513</td>\n",
              "      <td>Antony</td>\n",
              "      <td>ORLYVAL</td>\n",
              "      <td>0.0</td>\n",
              "      <td>48.754947</td>\n",
              "      <td>2.300987</td>\n",
              "      <td>Antony</td>\n",
              "      <td>92002</td>\n",
              "      <td>0</td>\n",
              "      <td>0</td>\n",
              "    </tr>\n",
              "    <tr>\n",
              "      <th>1</th>\n",
              "      <td>152.0</td>\n",
              "      <td>48.87514981880684,2.295904904713175</td>\n",
              "      <td>Charles De Gaulle-Étoile</td>\n",
              "      <td>METRO 1</td>\n",
              "      <td>0.0</td>\n",
              "      <td>48.875150</td>\n",
              "      <td>2.295905</td>\n",
              "      <td>Paris</td>\n",
              "      <td>75056</td>\n",
              "      <td>4</td>\n",
              "      <td>116</td>\n",
              "    </tr>\n",
              "    <tr>\n",
              "      <th>2</th>\n",
              "      <td>345.0</td>\n",
              "      <td>48.87371340578697,2.3276954096301736</td>\n",
              "      <td>Havre-Caumartin</td>\n",
              "      <td>METRO 9</td>\n",
              "      <td>0.0</td>\n",
              "      <td>48.873713</td>\n",
              "      <td>2.327695</td>\n",
              "      <td>Paris</td>\n",
              "      <td>75056</td>\n",
              "      <td>6</td>\n",
              "      <td>174</td>\n",
              "    </tr>\n",
              "    <tr>\n",
              "      <th>3</th>\n",
              "      <td>586.0</td>\n",
              "      <td>48.84894464414299,2.395879435185689</td>\n",
              "      <td>Nation</td>\n",
              "      <td>METRO 9</td>\n",
              "      <td>0.0</td>\n",
              "      <td>48.848945</td>\n",
              "      <td>2.395879</td>\n",
              "      <td>Paris</td>\n",
              "      <td>75056</td>\n",
              "      <td>5</td>\n",
              "      <td>201</td>\n",
              "    </tr>\n",
              "    <tr>\n",
              "      <th>4</th>\n",
              "      <td>776.0</td>\n",
              "      <td>48.85316798396978,2.343285978923924</td>\n",
              "      <td>Saint-Michel</td>\n",
              "      <td>METRO 4</td>\n",
              "      <td>0.0</td>\n",
              "      <td>48.853168</td>\n",
              "      <td>2.343286</td>\n",
              "      <td>Paris</td>\n",
              "      <td>75056</td>\n",
              "      <td>5</td>\n",
              "      <td>167</td>\n",
              "    </tr>\n",
              "    <tr>\n",
              "      <th>...</th>\n",
              "      <td>...</td>\n",
              "      <td>...</td>\n",
              "      <td>...</td>\n",
              "      <td>...</td>\n",
              "      <td>...</td>\n",
              "      <td>...</td>\n",
              "      <td>...</td>\n",
              "      <td>...</td>\n",
              "      <td>...</td>\n",
              "      <td>...</td>\n",
              "      <td>...</td>\n",
              "    </tr>\n",
              "    <tr>\n",
              "      <th>627</th>\n",
              "      <td>269.0</td>\n",
              "      <td>48.88813847669144,2.2497927690097654</td>\n",
              "      <td>Esplanade de la Défense</td>\n",
              "      <td>METRO 1</td>\n",
              "      <td>0.0</td>\n",
              "      <td>48.888138</td>\n",
              "      <td>2.249793</td>\n",
              "      <td>Courbevoie</td>\n",
              "      <td>92026</td>\n",
              "      <td>0</td>\n",
              "      <td>0</td>\n",
              "    </tr>\n",
              "    <tr>\n",
              "      <th>628</th>\n",
              "      <td>1076.0</td>\n",
              "      <td>48.93499415965736,2.3269510437797356</td>\n",
              "      <td>La Noue</td>\n",
              "      <td>TRAM 1</td>\n",
              "      <td>0.0</td>\n",
              "      <td>48.934994</td>\n",
              "      <td>2.326951</td>\n",
              "      <td>Villeneuve-la-Garenne</td>\n",
              "      <td>92078</td>\n",
              "      <td>0</td>\n",
              "      <td>0</td>\n",
              "    </tr>\n",
              "    <tr>\n",
              "      <th>629</th>\n",
              "      <td>1093.0</td>\n",
              "      <td>48.87209702901093,2.4086200551769896</td>\n",
              "      <td>Adrienne Bolland</td>\n",
              "      <td>TRAM 3b</td>\n",
              "      <td>0.0</td>\n",
              "      <td>48.872097</td>\n",
              "      <td>2.408620</td>\n",
              "      <td>Paris</td>\n",
              "      <td>75056</td>\n",
              "      <td>1</td>\n",
              "      <td>33</td>\n",
              "    </tr>\n",
              "    <tr>\n",
              "      <th>630</th>\n",
              "      <td>1213.0</td>\n",
              "      <td>48.896308469776066,2.3188044013442384</td>\n",
              "      <td>Honoré de Balzac</td>\n",
              "      <td>TRAM 3b</td>\n",
              "      <td>0.0</td>\n",
              "      <td>48.896308</td>\n",
              "      <td>2.318804</td>\n",
              "      <td>Paris</td>\n",
              "      <td>75056</td>\n",
              "      <td>3</td>\n",
              "      <td>109</td>\n",
              "    </tr>\n",
              "    <tr>\n",
              "      <th>631</th>\n",
              "      <td>1194.0</td>\n",
              "      <td>48.955829393006596,2.3019910195900777</td>\n",
              "      <td>Épinay-sur-Seine</td>\n",
              "      <td>TRAM 8</td>\n",
              "      <td>0.0</td>\n",
              "      <td>48.955829</td>\n",
              "      <td>2.301991</td>\n",
              "      <td>Épinay-sur-Seine</td>\n",
              "      <td>93031</td>\n",
              "      <td>0</td>\n",
              "      <td>0</td>\n",
              "    </tr>\n",
              "  </tbody>\n",
              "</table>\n",
              "<p>632 rows × 11 columns</p>\n",
              "</div>\n",
              "      <button class=\"colab-df-convert\" onclick=\"convertToInteractive('df-d784ab2d-87b5-4e1a-a750-785dce92c598')\"\n",
              "              title=\"Convert this dataframe to an interactive table.\"\n",
              "              style=\"display:none;\">\n",
              "        \n",
              "  <svg xmlns=\"http://www.w3.org/2000/svg\" height=\"24px\"viewBox=\"0 0 24 24\"\n",
              "       width=\"24px\">\n",
              "    <path d=\"M0 0h24v24H0V0z\" fill=\"none\"/>\n",
              "    <path d=\"M18.56 5.44l.94 2.06.94-2.06 2.06-.94-2.06-.94-.94-2.06-.94 2.06-2.06.94zm-11 1L8.5 8.5l.94-2.06 2.06-.94-2.06-.94L8.5 2.5l-.94 2.06-2.06.94zm10 10l.94 2.06.94-2.06 2.06-.94-2.06-.94-.94-2.06-.94 2.06-2.06.94z\"/><path d=\"M17.41 7.96l-1.37-1.37c-.4-.4-.92-.59-1.43-.59-.52 0-1.04.2-1.43.59L10.3 9.45l-7.72 7.72c-.78.78-.78 2.05 0 2.83L4 21.41c.39.39.9.59 1.41.59.51 0 1.02-.2 1.41-.59l7.78-7.78 2.81-2.81c.8-.78.8-2.07 0-2.86zM5.41 20L4 18.59l7.72-7.72 1.47 1.35L5.41 20z\"/>\n",
              "  </svg>\n",
              "      </button>\n",
              "      \n",
              "  <style>\n",
              "    .colab-df-container {\n",
              "      display:flex;\n",
              "      flex-wrap:wrap;\n",
              "      gap: 12px;\n",
              "    }\n",
              "\n",
              "    .colab-df-convert {\n",
              "      background-color: #E8F0FE;\n",
              "      border: none;\n",
              "      border-radius: 50%;\n",
              "      cursor: pointer;\n",
              "      display: none;\n",
              "      fill: #1967D2;\n",
              "      height: 32px;\n",
              "      padding: 0 0 0 0;\n",
              "      width: 32px;\n",
              "    }\n",
              "\n",
              "    .colab-df-convert:hover {\n",
              "      background-color: #E2EBFA;\n",
              "      box-shadow: 0px 1px 2px rgba(60, 64, 67, 0.3), 0px 1px 3px 1px rgba(60, 64, 67, 0.15);\n",
              "      fill: #174EA6;\n",
              "    }\n",
              "\n",
              "    [theme=dark] .colab-df-convert {\n",
              "      background-color: #3B4455;\n",
              "      fill: #D2E3FC;\n",
              "    }\n",
              "\n",
              "    [theme=dark] .colab-df-convert:hover {\n",
              "      background-color: #434B5C;\n",
              "      box-shadow: 0px 1px 3px 1px rgba(0, 0, 0, 0.15);\n",
              "      filter: drop-shadow(0px 1px 2px rgba(0, 0, 0, 0.3));\n",
              "      fill: #FFFFFF;\n",
              "    }\n",
              "  </style>\n",
              "\n",
              "      <script>\n",
              "        const buttonEl =\n",
              "          document.querySelector('#df-d784ab2d-87b5-4e1a-a750-785dce92c598 button.colab-df-convert');\n",
              "        buttonEl.style.display =\n",
              "          google.colab.kernel.accessAllowed ? 'block' : 'none';\n",
              "\n",
              "        async function convertToInteractive(key) {\n",
              "          const element = document.querySelector('#df-d784ab2d-87b5-4e1a-a750-785dce92c598');\n",
              "          const dataTable =\n",
              "            await google.colab.kernel.invokeFunction('convertToInteractive',\n",
              "                                                     [key], {});\n",
              "          if (!dataTable) return;\n",
              "\n",
              "          const docLinkHtml = 'Like what you see? Visit the ' +\n",
              "            '<a target=\"_blank\" href=https://colab.research.google.com/notebooks/data_table.ipynb>data table notebook</a>'\n",
              "            + ' to learn more about interactive tables.';\n",
              "          element.innerHTML = '';\n",
              "          dataTable['output_type'] = 'display_data';\n",
              "          await google.colab.output.renderOutput(dataTable, element);\n",
              "          const docLink = document.createElement('div');\n",
              "          docLink.innerHTML = docLinkHtml;\n",
              "          element.appendChild(docLink);\n",
              "        }\n",
              "      </script>\n",
              "    </div>\n",
              "  </div>\n",
              "  "
            ]
          },
          "metadata": {},
          "execution_count": 23
        }
      ]
    },
    {
      "cell_type": "markdown",
      "source": [
        "# Extraction"
      ],
      "metadata": {
        "id": "QfLqq2Z9vIFQ"
      }
    },
    {
      "cell_type": "code",
      "source": [
        "stations_idf.to_csv('/content/drive/MyDrive/LePont - Capstone #3/Notebook & Data/Data/stations-idf.csv', index = False)"
      ],
      "metadata": {
        "id": "VwTAL8Aguoxg"
      },
      "execution_count": null,
      "outputs": []
    }
  ]
}